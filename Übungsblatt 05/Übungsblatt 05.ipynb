{
 "cells": [
  {
   "cell_type": "markdown",
   "id": "3cdd5670",
   "metadata": {
    "deletable": false,
    "editable": false
   },
   "source": [
    "# Übungsblatt 5"
   ]
  },
  {
   "cell_type": "markdown",
   "id": "59e14900",
   "metadata": {
    "deletable": false,
    "editable": false
   },
   "source": [
    "Laden Sie die Daten, bevor Sie mit der Arbeit beginnen."
   ]
  },
  {
   "cell_type": "code",
   "execution_count": null,
   "id": "39fcd49b",
   "metadata": {
    "deletable": false,
    "editable": false
   },
   "outputs": [],
   "source": [
    "%CREATE :memory: OF tables.sql WITH_TESTS tests.json"
   ]
  },
  {
   "cell_type": "markdown",
   "id": "f9612fb7",
   "metadata": {
    "deletable": false,
    "editable": false
   },
   "source": [
    "## Aufgabe 1\n",
    "Formulieren Sie die folgenden Fragen an die Tabellen See und Kontinent als SQL-Anfragen."
   ]
  },
  {
   "cell_type": "code",
   "execution_count": null,
   "id": "31990b17",
   "metadata": {
    "deletable": false,
    "editable": false
   },
   "outputs": [],
   "source": [
    "%SCHEMA ONLY See,Kontinent"
   ]
  },
  {
   "cell_type": "markdown",
   "id": "9edf1fcf",
   "metadata": {
    "deletable": false,
    "editable": false
   },
   "source": [
    "Welche Seen liegen in Europa? *(Name, Tiefe)*"
   ]
  },
  {
   "cell_type": "code",
   "execution_count": null,
   "id": "8aa6856e-ae13-44e3-92ec-38928ed70de4",
   "metadata": {
    "deletable": false,
    "tags": []
   },
   "outputs": [],
   "source": [
    "%TEST task-1-1\n",
    "SELECT 1"
   ]
  },
  {
   "cell_type": "markdown",
   "id": "faf495e2",
   "metadata": {
    "deletable": false,
    "editable": false
   },
   "source": [
    "Welche Seen gibt es in den einzelnen Erdteilen? *(Erdteil, Name)*"
   ]
  },
  {
   "cell_type": "code",
   "execution_count": null,
   "id": "0f910038",
   "metadata": {
    "deletable": false,
    "tags": []
   },
   "outputs": [],
   "source": [
    "%TEST task-1-2\n",
    "SELECT 1"
   ]
  },
  {
   "cell_type": "markdown",
   "id": "5e5a4fd5",
   "metadata": {
    "deletable": false,
    "editable": false
   },
   "source": [
    "Wie viele Seen befinden sich in den einzelnen Erdteilen? *(Erdteil, Anzahl)*"
   ]
  },
  {
   "cell_type": "code",
   "execution_count": null,
   "id": "5c7093d7",
   "metadata": {
    "deletable": false,
    "tags": []
   },
   "outputs": [],
   "source": [
    "%TEST task-1-3\n",
    "SELECT 1"
   ]
  },
  {
   "cell_type": "markdown",
   "id": "c5602804",
   "metadata": {
    "deletable": false,
    "editable": false
   },
   "source": [
    "In welchen Erdteilen befinden sich mindestens fünf Seen? *(Erdteil)*"
   ]
  },
  {
   "cell_type": "code",
   "execution_count": null,
   "id": "75b9a7e0",
   "metadata": {
    "deletable": false,
    "tags": []
   },
   "outputs": [],
   "source": [
    "%TEST task-1-4\n",
    "SELECT 1"
   ]
  },
  {
   "cell_type": "markdown",
   "id": "55638c92",
   "metadata": {
    "deletable": false,
    "editable": false
   },
   "source": [
    "In wie vielen Ländern befinden sich die einzelnen Seen? *(Name, Anzahl)*"
   ]
  },
  {
   "cell_type": "code",
   "execution_count": null,
   "id": "60281072",
   "metadata": {
    "deletable": false,
    "tags": []
   },
   "outputs": [],
   "source": [
    "%TEST task-1-5\n",
    "SELECT 1"
   ]
  },
  {
   "cell_type": "markdown",
   "id": "dc800f73",
   "metadata": {
    "deletable": false,
    "editable": false
   },
   "source": [
    "Welches ist die größte Tiefe aller Seen? *(Tiefe)*"
   ]
  },
  {
   "cell_type": "code",
   "execution_count": null,
   "id": "fbfcaca4",
   "metadata": {
    "deletable": false,
    "tags": []
   },
   "outputs": [],
   "source": [
    "%TEST task-1-6\n",
    "SELECT 1"
   ]
  },
  {
   "cell_type": "markdown",
   "id": "cf8ac1f6",
   "metadata": {
    "deletable": false,
    "editable": false
   },
   "source": [
    "Welcher See ist mit welcher Tiefe der tiefste See der Erde? *(Name, Tiefe)*"
   ]
  },
  {
   "cell_type": "code",
   "execution_count": null,
   "id": "872a7f59",
   "metadata": {
    "deletable": false,
    "tags": []
   },
   "outputs": [],
   "source": [
    "%TEST task-1-7\n",
    "SELECT 1"
   ]
  },
  {
   "cell_type": "markdown",
   "id": "51d57332",
   "metadata": {
    "deletable": false,
    "editable": false
   },
   "source": [
    "Welche Seen mit welcher Tiefe gibt es in Afrika? *(Name, Tiefe*)"
   ]
  },
  {
   "cell_type": "code",
   "execution_count": null,
   "id": "9b19ee1b",
   "metadata": {
    "deletable": false,
    "tags": []
   },
   "outputs": [],
   "source": [
    "%TEST task-1-8\n",
    "SELECT 1"
   ]
  },
  {
   "cell_type": "markdown",
   "id": "6d2a8f95",
   "metadata": {
    "deletable": false,
    "editable": false
   },
   "source": [
    "Welcher See ist der tiefste See Afrikas? *(Name)*"
   ]
  },
  {
   "cell_type": "code",
   "execution_count": null,
   "id": "a31259a6",
   "metadata": {
    "deletable": false,
    "tags": []
   },
   "outputs": [],
   "source": [
    "%TEST task-1-9\n",
    "SELECT 1"
   ]
  },
  {
   "cell_type": "markdown",
   "id": "96d2fd42",
   "metadata": {
    "deletable": false,
    "editable": false
   },
   "source": [
    "Geben Sie zu jedem Land in Afrika - falls vorhanden - den tiefsten See des Landes und seine Tiefe an! Ordnen Sie aufsteigend nach der Tiefe und dem Land! *(Land, Name, Tiefe)*"
   ]
  },
  {
   "cell_type": "code",
   "execution_count": null,
   "id": "31083908",
   "metadata": {
    "deletable": false,
    "tags": []
   },
   "outputs": [],
   "source": [
    "%TEST task-1-10\n",
    "SELECT 1"
   ]
  },
  {
   "cell_type": "markdown",
   "id": "0ba6ca43",
   "metadata": {
    "deletable": false,
    "editable": false
   },
   "source": [
    "Wie groß ist die Durchschnittstiefe aller Seen der Erde? *(Tiefe)*\n",
    "\n",
    "**Achtung!** Ein See kann in mehreren Ländern liegen. Unterschiedliche Seen können dieselbe Tiefe haben."
   ]
  },
  {
   "cell_type": "code",
   "execution_count": null,
   "id": "e3685f77",
   "metadata": {
    "deletable": false,
    "tags": []
   },
   "outputs": [],
   "source": [
    "%TEST task-1-11\n",
    "SELECT 1"
   ]
  },
  {
   "cell_type": "markdown",
   "id": "739f6840",
   "metadata": {
    "deletable": false,
    "editable": false
   },
   "source": [
    "## Aufgabe 2\n",
    "In der Datenbank finden Sie auch eine Relation mit Angaben zu einigen Flüssen mit deren Länge und Mündung."
   ]
  },
  {
   "cell_type": "code",
   "execution_count": null,
   "id": "9963966d",
   "metadata": {
    "deletable": false,
    "editable": false
   },
   "outputs": [],
   "source": [
    "%SCHEMA ONLY Wasserlauf"
   ]
  },
  {
   "cell_type": "markdown",
   "id": "82262da6",
   "metadata": {
    "deletable": false,
    "editable": false
   },
   "source": [
    "In welches Meer fließt letztendlich das Wasser der Ilm? Stellen Sie eine Anfrage nach Ausgangspunkt (Fluss) und der Mündung im herkömmlichen SQL **ohne Kenntnis von Rekursion**. *(Fluss, Muendung)*"
   ]
  },
  {
   "cell_type": "code",
   "execution_count": null,
   "id": "5be7ac45",
   "metadata": {
    "deletable": false,
    "tags": []
   },
   "outputs": [],
   "source": [
    "%TEST task-2-1\n",
    "SELECT 1"
   ]
  },
  {
   "cell_type": "markdown",
   "id": "f6712687",
   "metadata": {
    "deletable": false,
    "editable": false
   },
   "source": [
    "Schreiben Sie für die folgenden Fragen SQL-Anweisungen mit **Rekursion**."
   ]
  },
  {
   "cell_type": "markdown",
   "id": "dfb8149b",
   "metadata": {
    "deletable": false,
    "editable": false
   },
   "source": [
    "In welches Meer fließt das Wasser der Ilm? Verfolgen Sie den Lauf des Wassers bis zum Ende jeweils über Fluss und Mündung. *(Fluss, Muendung)*"
   ]
  },
  {
   "cell_type": "code",
   "execution_count": null,
   "id": "c679f801",
   "metadata": {
    "deletable": false,
    "tags": []
   },
   "outputs": [],
   "source": [
    "%TEST task-2-2\n",
    "-- WITH RECURSIVE\n",
    "SELECT 1"
   ]
  },
  {
   "cell_type": "markdown",
   "id": "1932016d-bf8b-4d7c-856a-941b97d1f237",
   "metadata": {
    "deletable": false,
    "editable": false
   },
   "source": [
    "Die Schorte fließt in die Ilm, die Ilm in die Saale, $\\dots$. Berechnen Sie mit einer rekursiven SQL-Anfrage den Weg, den das Wasser der Schorte von der Quelle bis zur Mündung ins Meer zurücklegen muss. Beachten Sie, dass die Mündung eines Flusses nicht an der Quelle des nächsten liegt. Gehen Sie bei Ihrer Berechnung davon aus, dass die Flüsse jeweils in der Mitte des nächsten einmünden. *(Laenge)*"
   ]
  },
  {
   "cell_type": "code",
   "execution_count": null,
   "id": "2db2f6b3-174a-49eb-8310-f297dde69940",
   "metadata": {
    "deletable": false,
    "tags": []
   },
   "outputs": [],
   "source": [
    "%TEST task-2-3\n",
    "-- WITH RECURSIVE\n",
    "SELECT 1"
   ]
  },
  {
   "cell_type": "markdown",
   "id": "413dc628",
   "metadata": {
    "deletable": false,
    "editable": false
   },
   "source": [
    "Welche Flüsse münden direkt oder indirekt in die Nordsee? Ermitteln Sie dabei auch die Anzahl der vorherigen Einmündungen in andere Flüsse. Formulieren Sie eine Anfrage nach Fluss und Anzahl (der vorherigen Einmündungen). *(Fluss, Anzahl)*"
   ]
  },
  {
   "cell_type": "code",
   "execution_count": null,
   "id": "9f46a7f4",
   "metadata": {
    "deletable": false,
    "tags": []
   },
   "outputs": [],
   "source": [
    "%TEST task-2-4\n",
    "-- WITH RECURSIVE\n",
    "SELECT 1"
   ]
  },
  {
   "cell_type": "markdown",
   "id": "92d4055c",
   "metadata": {
    "deletable": false,
    "editable": false
   },
   "source": [
    "## Aufgabe 3\n",
    "Gegeben seien die Relationen $R$, $S$ und $T$."
   ]
  },
  {
   "cell_type": "code",
   "execution_count": null,
   "id": "ec4b2d28",
   "metadata": {
    "deletable": false,
    "editable": false
   },
   "outputs": [],
   "source": [
    "%SCHEMA TD ONLY R,S,T"
   ]
  },
  {
   "cell_type": "markdown",
   "id": "1b0e3391-a758-43ea-8eeb-3c2f34e42799",
   "metadata": {
    "deletable": false,
    "editable": false
   },
   "source": [
    "Schreiben Sie für die folgenden relationen-algebraischen Operationen **äquivalente** SQL-Anweisungen:"
   ]
  },
  {
   "cell_type": "markdown",
   "id": "421c227a",
   "metadata": {
    "deletable": false,
    "editable": false
   },
   "source": [
    "$\\Pi_{B}(T)$"
   ]
  },
  {
   "cell_type": "code",
   "execution_count": null,
   "id": "b787cbec",
   "metadata": {
    "deletable": false,
    "tags": []
   },
   "outputs": [],
   "source": [
    "%TEST task-3-1\n",
    "SELECT 1"
   ]
  },
  {
   "cell_type": "markdown",
   "id": "f8230839",
   "metadata": {
    "deletable": false,
    "editable": false
   },
   "source": [
    "$\\sigma_{B=c}(S)$"
   ]
  },
  {
   "cell_type": "code",
   "execution_count": null,
   "id": "73d29f81",
   "metadata": {
    "deletable": false,
    "tags": []
   },
   "outputs": [],
   "source": [
    "%TEST task-3-2\n",
    "SELECT 1"
   ]
  },
  {
   "cell_type": "markdown",
   "id": "ed704e00",
   "metadata": {
    "deletable": false,
    "editable": false
   },
   "source": [
    "$R \\bowtie S$"
   ]
  },
  {
   "cell_type": "code",
   "execution_count": null,
   "id": "c88edea6",
   "metadata": {
    "deletable": false,
    "tags": []
   },
   "outputs": [],
   "source": [
    "%TEST task-3-3\n",
    "SELECT 1"
   ]
  },
  {
   "cell_type": "markdown",
   "id": "70832c00",
   "metadata": {
    "deletable": false,
    "editable": false
   },
   "source": [
    "$R \\times T$"
   ]
  },
  {
   "cell_type": "code",
   "execution_count": null,
   "id": "70a7dde0",
   "metadata": {
    "deletable": false,
    "tags": []
   },
   "outputs": [],
   "source": [
    "%TEST task-3-4\n",
    "SELECT 1"
   ]
  },
  {
   "cell_type": "markdown",
   "id": "9488fa11",
   "metadata": {
    "deletable": false,
    "editable": false
   },
   "source": [
    "$ S \\cup T $"
   ]
  },
  {
   "cell_type": "code",
   "execution_count": null,
   "id": "ecd45ebd",
   "metadata": {
    "deletable": false,
    "tags": []
   },
   "outputs": [],
   "source": [
    "%TEST task-3-5-1\n",
    "SELECT 1"
   ]
  },
  {
   "cell_type": "markdown",
   "id": "dcaf764f",
   "metadata": {
    "deletable": false,
    "editable": false
   },
   "source": [
    "$ S \\cap T $"
   ]
  },
  {
   "cell_type": "code",
   "execution_count": null,
   "id": "1c9a1102",
   "metadata": {
    "deletable": false,
    "tags": []
   },
   "outputs": [],
   "source": [
    "%TEST task-3-5-2\n",
    "SELECT 1"
   ]
  },
  {
   "cell_type": "markdown",
   "id": "a3733336",
   "metadata": {
    "deletable": false,
    "editable": false
   },
   "source": [
    "$S - T$"
   ]
  },
  {
   "cell_type": "code",
   "execution_count": null,
   "id": "575ce7df",
   "metadata": {
    "deletable": false,
    "tags": []
   },
   "outputs": [],
   "source": [
    "%TEST task-3-6-1\n",
    "SELECT 1"
   ]
  },
  {
   "cell_type": "markdown",
   "id": "e6a09fc5",
   "metadata": {
    "deletable": false,
    "editable": false
   },
   "source": [
    "$T - S$"
   ]
  },
  {
   "cell_type": "code",
   "execution_count": null,
   "id": "71bdd58e",
   "metadata": {
    "deletable": false,
    "tags": []
   },
   "outputs": [],
   "source": [
    "%TEST task-3-6-2\n",
    "SELECT 1"
   ]
  }
 ],
 "metadata": {
  "kernelspec": {
   "display_name": "DuckDB",
   "language": "",
   "name": "duckdb_kernel"
  },
  "language_info": {
   "file_extension": ".sql",
   "mimetype": "application/sql",
   "name": "duckdb"
  }
 },
 "nbformat": 4,
 "nbformat_minor": 5
}
