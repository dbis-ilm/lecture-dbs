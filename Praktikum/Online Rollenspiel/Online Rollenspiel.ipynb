{
 "cells": [
  {
   "cell_type": "markdown",
   "id": "b7151055-9732-468c-99fe-6eb413d991ee",
   "metadata": {
    "deletable": false,
    "editable": false
   },
   "source": [
    "# Online Rollenspiel"
   ]
  },
  {
   "cell_type": "markdown",
   "id": "d9b4f743-4fc0-4ec1-b83a-fae44987de73",
   "metadata": {
    "deletable": false,
    "editable": false
   },
   "source": [
    "## Teil 1\n",
    "Entwerfen Sie zu folgendem Szenario ein Entity-Relationship-Diagramm. Achten Sie dabei insbesondere auf die Kennzeichnung der Schlüssel sowie der Kardinalitäten der Beziehungstypen."
   ]
  },
  {
   "cell_type": "markdown",
   "id": "20b6283e-c101-4f38-bd04-2802dff5f809",
   "metadata": {
    "deletable": false,
    "editable": false
   },
   "source": [
    "*Das Spielestudio DBGames entwickelt ein neues Online Rollenspiel. In diesem gibt es Spieler (mit ID, Name, Level und Gold), die sich zu Beginn des Spiels eine feste Klasse (mit ID und Name) wählen können. Spieler können sich außerdem in Gilden (mit ID, Level und Name) formieren, wobei jeder Spieler einen bestimmten Rang in der Gilde innehat. Jeder Spieler kann nur maximal einer Gilde gleichzeitig angehören. Jede Gilde muss mindestens ein Mitglied besitzen, sonst wird diese automatisch aufgelöst. Außerdem gibt es verschiedene Gegenstände (mit ID, Name und Seltenheit), die von den Spielern gesammelt werden können. Jeder Spieler kann eine beliebige Anzahl verschiedener Gegenstände besitzen.*"
   ]
  },
  {
   "cell_type": "markdown",
   "id": "41fcf71e-9772-49a0-9f79-7b959ead730d",
   "metadata": {
    "deletable": false,
    "editable": false
   },
   "source": [
    "## Teil 2\n",
    "Überführen Sie das ER-Diagramm in ein relationales Schema. Kennzeichnen Sie neben den Schlüsseln auch die Fremdschlüsselbeziehungen. Überprüfen Sie, in welcher Normalform sich die relationalen Schemata befinden über transformieren Sie die Schemata ggf. in die dritte Normalform."
   ]
  },
  {
   "cell_type": "markdown",
   "id": "f48cd45d-3d70-437c-9798-9274147ca020",
   "metadata": {
    "deletable": false,
    "editable": false
   },
   "source": [
    "## Teil 3\n",
    "Importieren Sie die gegebenen Daten in die Datenbank. Übertragen Sie dann die Daten in das zuvor normalisierte Schema."
   ]
  },
  {
   "cell_type": "code",
   "execution_count": null,
   "id": "b0419979-c4f7-41a5-8436-700d3d9c996d",
   "metadata": {
    "deletable": false,
    "editable": false
   },
   "outputs": [],
   "source": [
    "%CREATE :memory:\n",
    "CREATE OR REPLACE VIEW base AS FROM read_csv(dataset.csv, header=true, delim=',', auto_detect=true)"
   ]
  },
  {
   "cell_type": "code",
   "execution_count": null,
   "id": "6dd68f55-540c-451e-bea3-a83eee651c3c",
   "metadata": {
    "deletable": false,
    "editable": false
   },
   "outputs": [],
   "source": [
    "SELECT * FROM base"
   ]
  },
  {
   "cell_type": "markdown",
   "id": "55d1f3ef-ed33-4a55-867d-b8b262913444",
   "metadata": {
    "deletable": false,
    "editable": false
   },
   "source": [
    "Übertragen Sie die Daten in das zuvor normalisierte Schema."
   ]
  },
  {
   "cell_type": "code",
   "execution_count": null,
   "id": "b7044f23",
   "metadata": {
    "deletable": false,
    "tags": []
   },
   "outputs": [],
   "source": []
  },
  {
   "cell_type": "code",
   "execution_count": null,
   "id": "65bd29d0",
   "metadata": {
    "deletable": false,
    "tags": []
   },
   "outputs": [],
   "source": []
  },
  {
   "cell_type": "code",
   "execution_count": null,
   "id": "3a52d74c",
   "metadata": {
    "deletable": false,
    "tags": []
   },
   "outputs": [],
   "source": []
  },
  {
   "cell_type": "markdown",
   "id": "442b3a7a-d31b-4346-b404-1fd2324ebcdf",
   "metadata": {
    "deletable": false,
    "editable": false
   },
   "source": [
    "## Teil 4\n",
    "Formulieren Sie folgende Anfragen in SQL."
   ]
  },
  {
   "cell_type": "markdown",
   "id": "1083f326-a5e7-4b38-a4f4-eb7bcb6e0eed",
   "metadata": {
    "deletable": false,
    "editable": false
   },
   "source": [
    "Welche Spieler (Name) haben das Höchstlevel 100 erreicht?"
   ]
  },
  {
   "cell_type": "code",
   "execution_count": null,
   "id": "a17ae360",
   "metadata": {
    "deletable": false,
    "tags": []
   },
   "outputs": [],
   "source": []
  },
  {
   "cell_type": "markdown",
   "id": "9bb84d69-c8d1-4d39-b892-9074e07cb057",
   "metadata": {
    "deletable": false,
    "editable": false
   },
   "source": [
    "Welcher Spieler (Name, Gold) besitzt das meiste Gold?"
   ]
  },
  {
   "cell_type": "code",
   "execution_count": null,
   "id": "497f07df",
   "metadata": {
    "deletable": false,
    "tags": []
   },
   "outputs": [],
   "source": []
  },
  {
   "cell_type": "markdown",
   "id": "7214bd69-c773-41aa-9183-a39ab1541a44",
   "metadata": {
    "deletable": false,
    "editable": false
   },
   "source": [
    "Wie viele Spieler (Anzahl) gehören keiner Gilde an?"
   ]
  },
  {
   "cell_type": "code",
   "execution_count": null,
   "id": "3d892c09",
   "metadata": {
    "deletable": false,
    "tags": []
   },
   "outputs": [],
   "source": []
  },
  {
   "cell_type": "markdown",
   "id": "61288f5c-11a4-420e-83a4-4b43cd3d89fb",
   "metadata": {
    "deletable": false,
    "editable": false
   },
   "source": [
    "Welche Spieler (Spieler Name, Gegenstand Name) besitzen welche legendären Gegenstände?"
   ]
  },
  {
   "cell_type": "code",
   "execution_count": null,
   "id": "a750ec13",
   "metadata": {
    "deletable": false,
    "tags": []
   },
   "outputs": [],
   "source": []
  },
  {
   "cell_type": "markdown",
   "id": "d67db52c-6753-40ee-885d-52f62af854f1",
   "metadata": {
    "deletable": false,
    "editable": false
   },
   "source": [
    "Welche Gilde (Name, Anzahl) hat die meisten Mitglieder?"
   ]
  },
  {
   "cell_type": "code",
   "execution_count": null,
   "id": "4c45ce47",
   "metadata": {
    "deletable": false,
    "tags": []
   },
   "outputs": [],
   "source": []
  },
  {
   "cell_type": "markdown",
   "id": "64cb6f2a-3db2-4e99-b865-a65a85ef3694",
   "metadata": {
    "deletable": false,
    "editable": false
   },
   "source": [
    "Welche Klasse wurde wie oft von den Spielern gewählt? Erstellen Sie eine Statistik mit Klassen Name und Anzahl."
   ]
  },
  {
   "cell_type": "code",
   "execution_count": null,
   "id": "424ab8e3",
   "metadata": {
    "deletable": false,
    "tags": []
   },
   "outputs": [],
   "source": []
  },
  {
   "cell_type": "markdown",
   "id": "a4300f1d-6259-40ba-8c2a-29e0f166b891",
   "metadata": {
    "deletable": false,
    "editable": false
   },
   "source": [
    "Welcher Spieler (Name, Anzahl) besitzt die in Summe meisten Gegenstände?"
   ]
  },
  {
   "cell_type": "code",
   "execution_count": null,
   "id": "c3b6eaf3",
   "metadata": {
    "deletable": false,
    "tags": []
   },
   "outputs": [],
   "source": []
  },
  {
   "cell_type": "markdown",
   "id": "889a59b8-b7bf-4e31-8bc7-b0b91283f3ca",
   "metadata": {
    "deletable": false,
    "editable": false
   },
   "source": [
    "Welche Gilde (Name, Gold) hat die Mitglieder mit dem in Summe meisten Gold?"
   ]
  },
  {
   "cell_type": "code",
   "execution_count": null,
   "id": "2041c852",
   "metadata": {
    "deletable": false,
    "tags": []
   },
   "outputs": [],
   "source": []
  }
 ],
 "metadata": {
  "kernelspec": {
   "display_name": "DuckDB",
   "language": "",
   "name": "duckdb_kernel"
  },
  "language_info": {
   "file_extension": ".sql",
   "mimetype": "application/sql",
   "name": "duckdb"
  }
 },
 "nbformat": 4,
 "nbformat_minor": 5
}
