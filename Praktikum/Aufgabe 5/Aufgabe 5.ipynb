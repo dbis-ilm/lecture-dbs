{
 "cells": [
  {
   "cell_type": "markdown",
   "id": "b7151055-9732-468c-99fe-6eb413d991ee",
   "metadata": {
    "deletable": false,
    "editable": false
   },
   "source": [
    "# Aufgabe 5: FilmDB"
   ]
  },
  {
   "cell_type": "markdown",
   "id": "d9b4f743-4fc0-4ec1-b83a-fae44987de73",
   "metadata": {
    "deletable": false,
    "editable": false
   },
   "source": [
    "## Teil 1\n",
    "Entwerfen Sie zu folgendem Szenario ein Entity-Relationship-Diagramm. Achten Sie dabei insbesondere auf die Kennzeichnung der Schlüssel sowie der Kardinalitäten der Beziehungstypen."
   ]
  },
  {
   "cell_type": "markdown",
   "id": "20b6283e-c101-4f38-bd04-2802dff5f809",
   "metadata": {
    "deletable": false,
    "editable": false
   },
   "source": [
    "*Filme haben einen Titel und ein ReleaseDate, sowie die Gesamtanzahl der gewonnenen Awards. In einem Film können mehrere Schauspieler mitspielen, aber er hat nur einen Regisseur. Personen der Filmindustrie werden mit Name und Geburtsdatum abgespeichert. Für Schauspieler werden zusätzlich die Anzahl der Awards für schauspielerische Leistung und die zuständige Agentur abgespeichert. Für Regisseure wird die Anzahl der Awards für Regieleistungen gespeichert. Desweiteren werden die Songs - jeweils mit Name und Interpret, die einem Film vorkommen, abgespeichert werden - und zwar in der entsprechenden Reihenfolge wie im Film. Personen, Songs und Filme werden alle eindeutig über eine ID identifiziert.*"
   ]
  },
  {
   "cell_type": "markdown",
   "id": "41fcf71e-9772-49a0-9f79-7b959ead730d",
   "metadata": {
    "deletable": false,
    "editable": false
   },
   "source": [
    "## Teil 2\n",
    "Überführen Sie das ER-Diagramm in ein relationales Schema. Kennzeichnen Sie neben den Schlüsseln auch die Fremdschlüsselbeziehungen. Überprüfen Sie, in welcher Normalform sich die relationalen Schemata befinden über transformieren Sie die Schemata ggf. in die dritte Normalform."
   ]
  },
  {
   "cell_type": "markdown",
   "id": "f48cd45d-3d70-437c-9798-9274147ca020",
   "metadata": {
    "deletable": false,
    "editable": false
   },
   "source": [
    "## Teil 3\n",
    "Importieren Sie die gegebenen Daten in die Datenbank."
   ]
  },
  {
   "cell_type": "code",
   "execution_count": null,
   "id": "b0419979-c4f7-41a5-8436-700d3d9c996d",
   "metadata": {
    "deletable": false,
    "editable": false
   },
   "outputs": [],
   "source": [
    "%CREATE :memory:\n",
    "CREATE OR REPLACE VIEW base AS FROM read_csv(movieDB.csv, header=true, delim=',', auto_detect=true)"
   ]
  },
  {
   "cell_type": "code",
   "execution_count": null,
   "id": "6dd68f55-540c-451e-bea3-a83eee651c3c",
   "metadata": {
    "deletable": false,
    "editable": false
   },
   "outputs": [],
   "source": [
    "SELECT * FROM base"
   ]
  },
  {
   "cell_type": "markdown",
   "id": "55d1f3ef-ed33-4a55-867d-b8b262913444",
   "metadata": {
    "deletable": false,
    "editable": false
   },
   "source": [
    "Übertragen Sie die Daten in das zuvor normalisierte Schema."
   ]
  },
  {
   "cell_type": "code",
   "execution_count": null,
   "id": "a2b1ba3c",
   "metadata": {
    "deletable": false,
    "tags": []
   },
   "outputs": [],
   "source": []
  },
  {
   "cell_type": "code",
   "execution_count": null,
   "id": "615144cd",
   "metadata": {
    "deletable": false,
    "tags": []
   },
   "outputs": [],
   "source": []
  },
  {
   "cell_type": "code",
   "execution_count": null,
   "id": "5f651a9a",
   "metadata": {
    "deletable": false,
    "tags": []
   },
   "outputs": [],
   "source": []
  },
  {
   "cell_type": "markdown",
   "id": "442b3a7a-d31b-4346-b404-1fd2324ebcdf",
   "metadata": {
    "deletable": false,
    "editable": false
   },
   "source": [
    "## Teil 4\n",
    "Formulieren Sie folgende Anfragen in SQL."
   ]
  },
  {
   "cell_type": "markdown",
   "id": "1083f326-a5e7-4b38-a4f4-eb7bcb6e0eed",
   "metadata": {
    "deletable": false,
    "editable": false
   },
   "source": [
    "Wann wurde der Film \"The Sting\" veröffentlicht?"
   ]
  },
  {
   "cell_type": "code",
   "execution_count": null,
   "id": "cbfbb6a2",
   "metadata": {
    "deletable": false,
    "tags": []
   },
   "outputs": [],
   "source": []
  },
  {
   "cell_type": "markdown",
   "id": "9bb84d69-c8d1-4d39-b892-9074e07cb057",
   "metadata": {
    "deletable": false,
    "editable": false
   },
   "source": [
    "In welchem Film (Film, Anzahl) haben die meisten Schauspieler mitgespielt?"
   ]
  },
  {
   "cell_type": "code",
   "execution_count": null,
   "id": "cf465cb3",
   "metadata": {
    "deletable": false,
    "tags": []
   },
   "outputs": [],
   "source": []
  },
  {
   "cell_type": "markdown",
   "id": "7214bd69-c773-41aa-9183-a39ab1541a44",
   "metadata": {
    "deletable": false,
    "editable": false
   },
   "source": [
    "Welche Person (Name, Anzahl) hat in den meisten Filmen Regie geführt?"
   ]
  },
  {
   "cell_type": "code",
   "execution_count": null,
   "id": "cba46673",
   "metadata": {
    "deletable": false,
    "tags": []
   },
   "outputs": [],
   "source": []
  },
  {
   "cell_type": "markdown",
   "id": "61288f5c-11a4-420e-83a4-4b43cd3d89fb",
   "metadata": {
    "deletable": false,
    "editable": false
   },
   "source": [
    "Erstellen Sie einen Überblick über alle Filme, in der man erkennt, wieviele Auszeichnungen alle am Film beteiligten Akteuere gemeinsam erhalten haben."
   ]
  },
  {
   "cell_type": "code",
   "execution_count": null,
   "id": "3747132f",
   "metadata": {
    "deletable": false,
    "tags": []
   },
   "outputs": [],
   "source": []
  },
  {
   "cell_type": "markdown",
   "id": "d67db52c-6753-40ee-885d-52f62af854f1",
   "metadata": {
    "deletable": false,
    "editable": false
   },
   "source": [
    "Welcher Film hat die meisten Songs gelistet?"
   ]
  },
  {
   "cell_type": "code",
   "execution_count": null,
   "id": "0e9b9cdb",
   "metadata": {
    "deletable": false,
    "tags": []
   },
   "outputs": [],
   "source": []
  },
  {
   "cell_type": "markdown",
   "id": "64cb6f2a-3db2-4e99-b865-a65a85ef3694",
   "metadata": {
    "deletable": false,
    "editable": false
   },
   "source": [
    "Welcher Song wurde in den meisten Filmen verwendet?"
   ]
  },
  {
   "cell_type": "code",
   "execution_count": null,
   "id": "e731ac5a",
   "metadata": {
    "deletable": false,
    "tags": []
   },
   "outputs": [],
   "source": []
  },
  {
   "cell_type": "markdown",
   "id": "a4300f1d-6259-40ba-8c2a-29e0f166b891",
   "metadata": {
    "deletable": false,
    "editable": false
   },
   "source": [
    "Wieviele Auszeichnungen haben alle Regisseure im Durchschnitt erhalten?"
   ]
  },
  {
   "cell_type": "code",
   "execution_count": null,
   "id": "440067f0",
   "metadata": {
    "deletable": false,
    "tags": []
   },
   "outputs": [],
   "source": []
  },
  {
   "cell_type": "markdown",
   "id": "889a59b8-b7bf-4e31-8bc7-b0b91283f3ca",
   "metadata": {
    "deletable": false,
    "editable": false
   },
   "source": [
    "Listen Sie für jeden Film den Song (Name und Interpret), der als Eingangslied benutzt wurde."
   ]
  },
  {
   "cell_type": "code",
   "execution_count": null,
   "id": "8156599c",
   "metadata": {
    "deletable": false,
    "tags": []
   },
   "outputs": [],
   "source": []
  }
 ],
 "metadata": {
  "kernelspec": {
   "display_name": "DuckDB",
   "language": "",
   "name": "duckdb_kernel"
  },
  "language_info": {
   "file_extension": ".sql",
   "mimetype": "application/sql",
   "name": "duckdb"
  }
 },
 "nbformat": 4,
 "nbformat_minor": 5
}
