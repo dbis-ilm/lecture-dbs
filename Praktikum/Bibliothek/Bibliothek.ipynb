{
 "cells": [
  {
   "cell_type": "markdown",
   "id": "621e98aa-872f-46e4-95b3-1f68bdf29563",
   "metadata": {
    "deletable": false,
    "editable": false
   },
   "source": [
    "# Bibliothek"
   ]
  },
  {
   "cell_type": "markdown",
   "id": "dd988f7c-b2d7-4985-85c1-d78cc7d95f92",
   "metadata": {
    "deletable": false,
    "editable": false
   },
   "source": [
    "## Teil 1\n",
    "Entwerfen Sie zu folgendem Szenario ein Entity-Relationship-Diagramm. Achten Sie dabei insbesondere auf die Kennzeichnung der Schlüssel sowie der Kardinalitäten der Beziehungstypen."
   ]
  },
  {
   "cell_type": "markdown",
   "id": "67e89b6c-1e5a-4084-ba49-5181a4f7bb75",
   "metadata": {
    "deletable": false,
    "editable": false,
    "slideshow": {
     "slide_type": ""
    },
    "tags": []
   },
   "source": [
    "*Eine Bibliothek enthält eine Menge an Büchern. Diese haben eine eindeutige ISBN, einen Titel, ein Veröffentlichungsdatum, eine Seitenanzahl und einen Autor. Außerdem können Bücher von Nutzern entliehen sein.*\n",
    "\n",
    "*Autoren haben einen eindeutigen Namen, ein Herkunftsland und eine Kurzbiografie. Nutzer haben eine eindeutige ID, einen Namen und ein Registrierungsdatum.*\n",
    "\n",
    "*Nutzer können Bewertungen für Bücher im Bereich von 0 bis 100 abgeben. Natürlich kann jeder Nutzer ein Buch nur einmal bewerten.*\n",
    "\n",
    "*Die Nutzer dürfen außerdem die Scanner, die einen eindeutigen Namen und einen Standort besitzen, verwenden. Auch wenn die Verwendung kostenfrei ist, wird bei jedem Scan das Datum und die Anzahl der Seiten gespeichert. Ein Nutzer kann selbstverständlich jeden Scanner mehrfach verwenden, der Fairness halber allerdings nur einmal am Tag.*"
   ]
  },
  {
   "cell_type": "markdown",
   "id": "05f1d772-7790-4592-922f-a47bb0d4bf28",
   "metadata": {
    "deletable": false,
    "editable": false
   },
   "source": [
    "## Teil 2\n",
    "Überführen Sie das ER-Diagramm in ein relationales Schema. Kennzeichnen Sie neben den Schlüsseln auch die Fremdschlüsselbeziehungen. Überprüfen Sie, in welcher Normalform sich die relationalen Schemata befinden über transformieren Sie die Schemata ggf. in die dritte Normalform."
   ]
  },
  {
   "cell_type": "markdown",
   "id": "7c7dcbe6-19ba-4e44-9224-67c312548ae8",
   "metadata": {
    "deletable": false,
    "editable": false
   },
   "source": [
    "## Teil 3\n",
    "Importieren Sie die gegebenen Daten in die Datenbank."
   ]
  },
  {
   "cell_type": "code",
   "execution_count": null,
   "id": "96e8aeef-d038-436c-bc95-c06bba939345",
   "metadata": {
    "deletable": false,
    "editable": false,
    "slideshow": {
     "slide_type": ""
    },
    "tags": []
   },
   "outputs": [],
   "source": [
    "%CREATE :memory:\n",
    "CREATE OR REPLACE VIEW base AS FROM read_csv(bibliothek.csv, header=true, delim=',', auto_detect=true)"
   ]
  },
  {
   "cell_type": "code",
   "execution_count": null,
   "id": "5a3f4d91-d4ac-4c24-a6c6-c9b14fc1e5b5",
   "metadata": {
    "deletable": false,
    "editable": false,
    "slideshow": {
     "slide_type": ""
    },
    "tags": []
   },
   "outputs": [],
   "source": [
    "SELECT * FROM base"
   ]
  },
  {
   "cell_type": "code",
   "execution_count": null,
   "id": "4ab2a2e7-0276-4d09-8876-8eb31a527a81",
   "metadata": {
    "deletable": false,
    "editable": true,
    "slideshow": {
     "slide_type": ""
    },
    "tags": []
   },
   "outputs": [],
   "source": []
  },
  {
   "cell_type": "code",
   "execution_count": null,
   "id": "1309dfc0-e607-4ceb-9620-2ecda0f62005",
   "metadata": {
    "deletable": false,
    "editable": true,
    "slideshow": {
     "slide_type": ""
    },
    "tags": []
   },
   "outputs": [],
   "source": []
  },
  {
   "cell_type": "code",
   "execution_count": null,
   "id": "bab942ab-e207-4b3f-a988-949ce7614e32",
   "metadata": {
    "deletable": false,
    "editable": true,
    "slideshow": {
     "slide_type": ""
    },
    "tags": []
   },
   "outputs": [],
   "source": []
  },
  {
   "cell_type": "markdown",
   "id": "232f6cd5-5dbd-45f1-af42-6de5ca26a300",
   "metadata": {
    "deletable": false,
    "editable": false,
    "slideshow": {
     "slide_type": ""
    },
    "tags": []
   },
   "source": [
    "## Teil 4\n",
    "Formulieren Sie folgende Anfragen in SQL."
   ]
  },
  {
   "cell_type": "markdown",
   "id": "56e5eceb-d210-48f2-980e-9dc09c570ff5",
   "metadata": {
    "deletable": false,
    "editable": false,
    "slideshow": {
     "slide_type": ""
    },
    "tags": []
   },
   "source": [
    "Welches Buch wurde am *07.11.2011* veröffentlicht?"
   ]
  },
  {
   "cell_type": "code",
   "execution_count": null,
   "id": "46b5d6ff-02f3-42c3-b92a-9c607a129906",
   "metadata": {
    "deletable": false,
    "editable": true,
    "slideshow": {
     "slide_type": ""
    },
    "tags": []
   },
   "outputs": [],
   "source": []
  },
  {
   "cell_type": "markdown",
   "id": "a0f656ee-c69f-4c5c-992f-53e00ff29261",
   "metadata": {
    "deletable": false,
    "editable": false,
    "slideshow": {
     "slide_type": ""
    },
    "tags": []
   },
   "source": [
    "Welchen Titel besitzt das älteste Buch der Bibliothek?"
   ]
  },
  {
   "cell_type": "code",
   "execution_count": null,
   "id": "ff72673b-172b-492e-9a83-2d0fd6c07229",
   "metadata": {
    "deletable": false,
    "editable": true,
    "slideshow": {
     "slide_type": ""
    },
    "tags": []
   },
   "outputs": [],
   "source": []
  },
  {
   "cell_type": "markdown",
   "id": "ec334aff-0251-4961-85b7-2e7a46fc4b59",
   "metadata": {
    "deletable": false,
    "editable": false,
    "slideshow": {
     "slide_type": ""
    },
    "tags": []
   },
   "source": [
    "Woher stammen die Autoren der Bücher mit dem Namen *Golden Tales*?"
   ]
  },
  {
   "cell_type": "code",
   "execution_count": null,
   "id": "d88f942b-32a2-41f9-adeb-145fcc01d42d",
   "metadata": {
    "deletable": false,
    "editable": true,
    "slideshow": {
     "slide_type": ""
    },
    "tags": []
   },
   "outputs": [],
   "source": []
  },
  {
   "cell_type": "markdown",
   "id": "3f3abfbb-0fcb-4c4f-9914-549d11e4a44f",
   "metadata": {
    "deletable": false,
    "editable": false,
    "slideshow": {
     "slide_type": ""
    },
    "tags": []
   },
   "source": [
    "Welcher Autor hat die meisten Bücher veröffentlicht?"
   ]
  },
  {
   "cell_type": "code",
   "execution_count": null,
   "id": "5fec4252-492c-401e-8576-0e600f8e5478",
   "metadata": {
    "deletable": false,
    "editable": true,
    "slideshow": {
     "slide_type": ""
    },
    "tags": []
   },
   "outputs": [],
   "source": []
  },
  {
   "cell_type": "markdown",
   "id": "9fdfb680-0fbd-4811-9a15-8ad347d50dca",
   "metadata": {
    "deletable": false,
    "editable": false,
    "slideshow": {
     "slide_type": ""
    },
    "tags": []
   },
   "source": [
    "Welcher Scanner hat die meisten Seiten gescannt?"
   ]
  },
  {
   "cell_type": "code",
   "execution_count": null,
   "id": "792f053b-f0e3-4d4a-88d1-ff466a5181ce",
   "metadata": {
    "deletable": false,
    "editable": true,
    "slideshow": {
     "slide_type": ""
    },
    "tags": []
   },
   "outputs": [],
   "source": []
  },
  {
   "cell_type": "markdown",
   "id": "33497b47-b76e-4859-a375-ef9363e2c506",
   "metadata": {
    "deletable": false,
    "editable": false,
    "slideshow": {
     "slide_type": ""
    },
    "tags": []
   },
   "source": [
    "Wann hat sich der Nutzer mit den meisten Bewertungen in der Bibliothek angemeldet?"
   ]
  },
  {
   "cell_type": "code",
   "execution_count": null,
   "id": "e24a0c0a-1f02-4603-8c59-4609f22fe0fd",
   "metadata": {
    "deletable": false,
    "editable": true,
    "slideshow": {
     "slide_type": ""
    },
    "tags": []
   },
   "outputs": [],
   "source": []
  },
  {
   "cell_type": "markdown",
   "id": "37f4c019-8260-47b7-ba58-ca237e66c448",
   "metadata": {
    "deletable": false,
    "editable": false,
    "slideshow": {
     "slide_type": ""
    },
    "tags": []
   },
   "source": [
    "Welche Bücher sind aktuell nicht ausgeliehen und wurden bisher auch noch nicht bewertet?"
   ]
  },
  {
   "cell_type": "code",
   "execution_count": null,
   "id": "ad612250-1651-4fe5-936a-fc4aab69697a",
   "metadata": {
    "deletable": false,
    "editable": true,
    "slideshow": {
     "slide_type": ""
    },
    "tags": []
   },
   "outputs": [],
   "source": []
  },
  {
   "cell_type": "markdown",
   "id": "5e79a199-0422-4c62-8311-ca7bc70706fe",
   "metadata": {
    "deletable": false,
    "editable": false,
    "slideshow": {
     "slide_type": ""
    },
    "tags": []
   },
   "source": [
    "Listen Sie alle Länder und die jeweils beste Durchschnittsbewertung der Bücher der dort beheimateten Autoren auf."
   ]
  },
  {
   "cell_type": "code",
   "execution_count": null,
   "id": "c77e154f-2869-406d-b3ce-7377ca63bd1f",
   "metadata": {
    "deletable": false,
    "editable": true,
    "slideshow": {
     "slide_type": ""
    },
    "tags": []
   },
   "outputs": [],
   "source": []
  }
 ],
 "metadata": {
  "kernelspec": {
   "display_name": "DuckDB",
   "language": "",
   "name": "duckdb_kernel"
  },
  "language_info": {
   "file_extension": ".sql",
   "mimetype": "application/sql",
   "name": "duckdb"
  }
 },
 "nbformat": 4,
 "nbformat_minor": 5
}
