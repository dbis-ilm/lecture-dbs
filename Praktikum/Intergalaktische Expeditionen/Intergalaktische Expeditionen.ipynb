{
 "cells": [
  {
   "cell_type": "markdown",
   "id": "553dd727-b090-4e59-81f6-7231017bdd48",
   "metadata": {
    "deletable": false,
    "editable": false,
    "slideshow": {
     "slide_type": ""
    },
    "tags": []
   },
   "source": [
    "# Aufgabe 9 - Intergalaktische Expeditionen"
   ]
  },
  {
   "cell_type": "markdown",
   "id": "84f1c390-98eb-44d3-8ed2-8cdbf5d5975b",
   "metadata": {
    "deletable": false,
    "editable": false,
    "slideshow": {
     "slide_type": ""
    },
    "tags": []
   },
   "source": [
    "## Teil 1\n",
    "Entwerfen Sie zu folgendem Szenario ein Entity-Relationship-Diagramm. Achten Sie dabei insbesondere auf die Kennzeichnung der Schlüssel sowie der Kardinalitäten der Beziehungstypen."
   ]
  },
  {
   "cell_type": "markdown",
   "id": "5981f294-add3-43d6-849c-562a3dd7e7bd",
   "metadata": {
    "deletable": false,
    "editable": false,
    "slideshow": {
     "slide_type": ""
    },
    "tags": []
   },
   "source": [
    "*Ein intergalaktischer Forschungsrat organisiert Expeditionen zu verschiedenen Planeten. Expeditionen haben einen Namen, ein Jahr der Durchführung, einen Zielplaneten und werden von einem Team durchgeführt. Der Name einer Expedition kann mehrfach verwendet werden, aber nur einmalig pro Jahr. Die Expeditionsteams haben ein Gründungsjahr, einen Teamleiter und ein Spezialgebiet. Planeten werden anhand ihres Namens identifiziert.*\n",
    "\n",
    "*Planeten werden von Spezies besiedelt, die einen eindeutigen Namen besitzen. Es können mehrere Spezies einen Planeten gemeinsam besiedeln. Außerdem besitzt jede Spezies eine spezielle Eigenschaft, eine Nahrungsquelle und eine Technologiestufe.*\n",
    "\n",
    "*Spezies können sich außerdem zu Allianzen zusammenschließen. Allianzen besitzen einen eindeutigen Namen, ein Gründungsjahr, eine von ihnen hauptsächlich gehandelte Ressource und eine Verteidigungsstrategie. Spezies können sich mehreren Allianzen gleichzeitig anschließen, aber natürlich auch unter sich bleiben.*"
   ]
  },
  {
   "cell_type": "markdown",
   "id": "053a173b-efe2-4b5f-9e81-2aff84a93b65",
   "metadata": {
    "deletable": false,
    "editable": false,
    "slideshow": {
     "slide_type": ""
    },
    "tags": []
   },
   "source": [
    "## Teil 2\n",
    "Überführen Sie das ER-Diagramm in ein relationales Schema. Kennzeichnen Sie neben den Schlüsseln auch die Fremdschlüsselbeziehungen. Überprüfen Sie, in welcher Normalform sich die relationalen Schemata befinden über transformieren Sie die Schemata ggf. in die dritte Normalform."
   ]
  },
  {
   "cell_type": "markdown",
   "id": "2d58a975-6f2e-45e4-b94d-d12fad73a995",
   "metadata": {
    "deletable": false,
    "editable": false,
    "slideshow": {
     "slide_type": ""
    },
    "tags": []
   },
   "source": [
    "## Teil 3\n",
    "Importieren Sie die gegebenen Daten in die Datenbank."
   ]
  },
  {
   "cell_type": "code",
   "execution_count": null,
   "id": "08004625-9209-494f-8596-675846c100ca",
   "metadata": {
    "deletable": false,
    "editable": false,
    "slideshow": {
     "slide_type": ""
    },
    "tags": []
   },
   "outputs": [],
   "source": [
    "%CREATE :memory:\n",
    "CREATE OR REPLACE VIEW base AS FROM read_csv(expeditionen.csv, header=true, delim=',', auto_detect=true)"
   ]
  },
  {
   "cell_type": "code",
   "execution_count": null,
   "id": "6a00a74c-c639-415d-8456-cfa9ed73ef46",
   "metadata": {
    "deletable": false,
    "editable": false,
    "slideshow": {
     "slide_type": ""
    },
    "tags": []
   },
   "outputs": [],
   "source": [
    "SELECT * FROM base"
   ]
  },
  {
   "cell_type": "code",
   "execution_count": null,
   "id": "bd7caf35-ec4c-445e-b237-3767a6ece692",
   "metadata": {
    "deletable": false,
    "editable": true,
    "slideshow": {
     "slide_type": ""
    },
    "tags": []
   },
   "outputs": [],
   "source": []
  },
  {
   "cell_type": "code",
   "execution_count": null,
   "id": "f0c2e798-6385-4f6d-8c0b-27b1bfd50041",
   "metadata": {
    "deletable": false,
    "editable": true,
    "slideshow": {
     "slide_type": ""
    },
    "tags": []
   },
   "outputs": [],
   "source": []
  },
  {
   "cell_type": "code",
   "execution_count": null,
   "id": "aa01f6fa-75e7-4f06-b374-19e0a02f3fcd",
   "metadata": {
    "deletable": false,
    "editable": true,
    "slideshow": {
     "slide_type": ""
    },
    "tags": []
   },
   "outputs": [],
   "source": []
  },
  {
   "cell_type": "markdown",
   "id": "51d81895-77eb-45e1-b704-45f26ad36201",
   "metadata": {
    "deletable": false,
    "editable": false,
    "slideshow": {
     "slide_type": ""
    },
    "tags": []
   },
   "source": [
    "## Teil 4\n",
    "Formulieren Sie folgende Anfragen in SQL."
   ]
  },
  {
   "cell_type": "markdown",
   "id": "640c3228-b047-4de4-ba65-75685be09e5d",
   "metadata": {
    "deletable": false,
    "editable": false,
    "slideshow": {
     "slide_type": ""
    },
    "tags": []
   },
   "source": [
    "Welche Expedition hat zuerst stattgefunden?"
   ]
  },
  {
   "cell_type": "code",
   "execution_count": null,
   "id": "d32f92a6-8241-4a9c-b060-efd310e36f1f",
   "metadata": {
    "deletable": false,
    "editable": true,
    "slideshow": {
     "slide_type": ""
    },
    "tags": []
   },
   "outputs": [],
   "source": []
  },
  {
   "cell_type": "markdown",
   "id": "9b1baa2c-0f90-4233-9b3f-688ea419d053",
   "metadata": {
    "deletable": false,
    "editable": false,
    "slideshow": {
     "slide_type": ""
    },
    "tags": []
   },
   "source": [
    "Welche Allianz verwendet *Energiebarrieren* als Verteidigungsstrategie?"
   ]
  },
  {
   "cell_type": "code",
   "execution_count": null,
   "id": "2281811e-dda0-46c2-a14f-980f48824320",
   "metadata": {
    "deletable": false,
    "editable": true,
    "slideshow": {
     "slide_type": ""
    },
    "tags": []
   },
   "outputs": [],
   "source": []
  },
  {
   "cell_type": "markdown",
   "id": "15cac556-293d-4299-92de-47439140f5c2",
   "metadata": {
    "deletable": false,
    "editable": false,
    "slideshow": {
     "slide_type": ""
    },
    "tags": []
   },
   "source": [
    "In welchem Jahr wurden die meisten Allianzen gegründet?"
   ]
  },
  {
   "cell_type": "code",
   "execution_count": null,
   "id": "d4c2624f-571d-492e-bc7e-7035853fb578",
   "metadata": {
    "deletable": false,
    "editable": true,
    "slideshow": {
     "slide_type": ""
    },
    "tags": []
   },
   "outputs": [],
   "source": []
  },
  {
   "cell_type": "markdown",
   "id": "5036d171-aad8-4ab9-b120-f6421fb2487a",
   "metadata": {
    "deletable": false,
    "editable": false,
    "slideshow": {
     "slide_type": ""
    },
    "tags": []
   },
   "source": [
    "Wie viele Spezies besiedeln jeweils einen Planeten?"
   ]
  },
  {
   "cell_type": "code",
   "execution_count": null,
   "id": "220af703-8ba8-4c31-94cb-b25f20921ec6",
   "metadata": {
    "deletable": false,
    "editable": true,
    "slideshow": {
     "slide_type": ""
    },
    "tags": []
   },
   "outputs": [],
   "source": []
  },
  {
   "cell_type": "markdown",
   "id": "710359f7-e8f2-48d0-b028-f5606971f803",
   "metadata": {
    "deletable": false,
    "editable": false,
    "slideshow": {
     "slide_type": ""
    },
    "tags": []
   },
   "source": [
    "Welche Planeten werden nur von Spezies mit der Technologiestufe *niedrig* bevölkert?"
   ]
  },
  {
   "cell_type": "code",
   "execution_count": null,
   "id": "1ba0b9bd-e8f3-4e4a-9a11-295e3fabeba8",
   "metadata": {
    "deletable": false,
    "editable": true,
    "slideshow": {
     "slide_type": ""
    },
    "tags": []
   },
   "outputs": [],
   "source": []
  },
  {
   "cell_type": "markdown",
   "id": "3c85dfe8-e3ab-4f52-be71-a161a165fb55",
   "metadata": {
    "deletable": false,
    "editable": false,
    "slideshow": {
     "slide_type": ""
    },
    "tags": []
   },
   "source": [
    "Welcher Planet ist an nur zwei Allianzen beteiligt?"
   ]
  },
  {
   "cell_type": "code",
   "execution_count": null,
   "id": "d4bee2e8-bc1c-4ae1-a90f-69741e218934",
   "metadata": {
    "deletable": false,
    "editable": true,
    "slideshow": {
     "slide_type": ""
    },
    "tags": []
   },
   "outputs": [],
   "source": []
  },
  {
   "cell_type": "markdown",
   "id": "b9e38b88-a681-4f65-b531-94bc0b1d2630",
   "metadata": {
    "deletable": false,
    "editable": false,
    "slideshow": {
     "slide_type": ""
    },
    "tags": []
   },
   "source": [
    "Welche Spezies sind nicht Teil einer Allianz?"
   ]
  },
  {
   "cell_type": "code",
   "execution_count": null,
   "id": "8a6b7cf3-ac81-4660-ba6f-e35d9130236e",
   "metadata": {
    "deletable": false,
    "editable": true,
    "slideshow": {
     "slide_type": ""
    },
    "tags": []
   },
   "outputs": [],
   "source": []
  },
  {
   "cell_type": "markdown",
   "id": "b3ac9509-c2a7-4c4b-a68d-aadaa93da960",
   "metadata": {
    "deletable": false,
    "editable": false,
    "slideshow": {
     "slide_type": ""
    },
    "tags": []
   },
   "source": [
    "Welches Teams **(Plural)** haben die meisten Expeditionen durchgeführt?"
   ]
  },
  {
   "cell_type": "code",
   "execution_count": null,
   "id": "d2105e2a-96ac-4f77-9c9e-95aae357d271",
   "metadata": {
    "deletable": false,
    "editable": true,
    "slideshow": {
     "slide_type": ""
    },
    "tags": []
   },
   "outputs": [],
   "source": []
  }
 ],
 "metadata": {
  "kernelspec": {
   "display_name": "DuckDB",
   "language": "",
   "name": "duckdb_kernel"
  },
  "language_info": {
   "file_extension": ".sql",
   "mimetype": "application/sql",
   "name": "duckdb"
  }
 },
 "nbformat": 4,
 "nbformat_minor": 5
}
