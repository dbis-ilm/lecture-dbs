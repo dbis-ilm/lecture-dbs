{
 "cells": [
  {
   "cell_type": "markdown",
   "id": "b7151055-9732-468c-99fe-6eb413d991ee",
   "metadata": {
    "deletable": false,
    "editable": false
   },
   "source": [
    "# Aufgabe 6: Streaming Service"
   ]
  },
  {
   "cell_type": "markdown",
   "id": "d9b4f743-4fc0-4ec1-b83a-fae44987de73",
   "metadata": {
    "deletable": false,
    "editable": false
   },
   "source": [
    "## Teil 1\n",
    "Entwerfen Sie zu folgendem Szenario ein Entity-Relationship-Diagramm. Achten Sie dabei insbesondere auf die Kennzeichnung der Schlüssel sowie der Kardinalitäten der Beziehungstypen."
   ]
  },
  {
   "cell_type": "markdown",
   "id": "20b6283e-c101-4f38-bd04-2802dff5f809",
   "metadata": {
    "deletable": false,
    "editable": false
   },
   "source": [
    "*Täglich erscheinen neue Episoden verschiedener Serien auf unserer Streaming-Plattform. Jede dieser Episoden besitzt eine\n",
    "einzigartige Identifikationsnummer, eine Ordnungsnummer innerhalb ihrer Serie, das Veröffentlichungsdataum und einen\n",
    "Titel. Die Serien selbst besitzen einen eindeutigen Titel und erhalten eine Bewertung, die den prozentualen Anteil der\n",
    "positiven Stimmen innerhalb der Community repräsentiert. Außerdem ist jede Serie einem Genre (z.B. Crime, Drama) und\n",
    "einem Produktionsnetzwerk (z.B. Amazon) zugeordnet. Jedes Genre besitzt einen eindeutigen Namen und eine Anzahl an bekannten Produktionen. Produktionsnetzwerke besitzen ebenfalls einen eindeutigen Namen und eine Adresse.*\n",
    "\n",
    "*Außerdem speichern wir für unsere Suche die wichtigsten Schauspieler anhand ihres eindeutigen Namens. Jeder von ihnen\n",
    "besitzt eine Bewertung ihrer Popularität. Unterteilt werden die Darsteller in die Stammbesetzung, die an vielen Episoden\n",
    "einer Serie mitwirken, und Gast-Stars, die nur in einzelnen oder einer geringen Anzahl an Episoden auftauchen. Zu jeder Rolle, sei es als Stammbesetzung oder Gast, benötigen wir den Namen des dargestellten Charakters.*"
   ]
  },
  {
   "cell_type": "markdown",
   "id": "41fcf71e-9772-49a0-9f79-7b959ead730d",
   "metadata": {
    "deletable": false,
    "editable": false
   },
   "source": [
    "## Teil 2\n",
    "Überführen Sie das ER-Diagramm in ein relationales Schema. Kennzeichnen Sie neben den Schlüsseln auch die Fremdschlüsselbeziehungen. Überprüfen Sie, in welcher Normalform sich die relationalen Schemata befinden über transformieren Sie die Schemata ggf. in die dritte Normalform."
   ]
  },
  {
   "cell_type": "markdown",
   "id": "f48cd45d-3d70-437c-9798-9274147ca020",
   "metadata": {
    "deletable": false,
    "editable": false
   },
   "source": [
    "## Teil 3\n",
    "Importieren Sie die gegebenen Daten in die Datenbank."
   ]
  },
  {
   "cell_type": "code",
   "execution_count": null,
   "id": "b0419979-c4f7-41a5-8436-700d3d9c996d",
   "metadata": {
    "deletable": false,
    "editable": false
   },
   "outputs": [],
   "source": [
    "%CREATE :memory:\n",
    "CREATE OR REPLACE VIEW base AS FROM read_csv(dbs_tvshows.csv, header=true, delim=',', auto_detect=true)"
   ]
  },
  {
   "cell_type": "code",
   "execution_count": null,
   "id": "6dd68f55-540c-451e-bea3-a83eee651c3c",
   "metadata": {
    "deletable": false,
    "editable": false
   },
   "outputs": [],
   "source": [
    "SELECT * FROM base"
   ]
  },
  {
   "cell_type": "markdown",
   "id": "55d1f3ef-ed33-4a55-867d-b8b262913444",
   "metadata": {
    "deletable": false,
    "editable": false
   },
   "source": [
    "Übertragen Sie die Daten in das zuvor normalisierte Schema."
   ]
  },
  {
   "cell_type": "code",
   "execution_count": null,
   "id": "423c6061",
   "metadata": {
    "deletable": false,
    "tags": []
   },
   "outputs": [],
   "source": []
  },
  {
   "cell_type": "code",
   "execution_count": null,
   "id": "21426159",
   "metadata": {
    "deletable": false,
    "tags": []
   },
   "outputs": [],
   "source": []
  },
  {
   "cell_type": "code",
   "execution_count": null,
   "id": "efdd47f8",
   "metadata": {
    "deletable": false,
    "tags": []
   },
   "outputs": [],
   "source": []
  },
  {
   "cell_type": "markdown",
   "id": "442b3a7a-d31b-4346-b404-1fd2324ebcdf",
   "metadata": {
    "deletable": false,
    "editable": false
   },
   "source": [
    "## Teil 4\n",
    "Formulieren Sie folgende Anfragen in SQL."
   ]
  },
  {
   "cell_type": "markdown",
   "id": "1083f326-a5e7-4b38-a4f4-eb7bcb6e0eed",
   "metadata": {
    "deletable": false,
    "editable": false
   },
   "source": [
    "Wie lauten die Titel der Episoden, die am 23.11.2022 veröffentlicht wurden?"
   ]
  },
  {
   "cell_type": "code",
   "execution_count": null,
   "id": "6ac335aa",
   "metadata": {
    "deletable": false,
    "tags": []
   },
   "outputs": [],
   "source": []
  },
  {
   "cell_type": "markdown",
   "id": "9bb84d69-c8d1-4d39-b892-9074e07cb057",
   "metadata": {
    "deletable": false,
    "editable": false
   },
   "source": [
    "Wer ist der populärste Schauspieler?"
   ]
  },
  {
   "cell_type": "code",
   "execution_count": null,
   "id": "d55c73a9",
   "metadata": {
    "deletable": false,
    "tags": []
   },
   "outputs": [],
   "source": []
  },
  {
   "cell_type": "markdown",
   "id": "7214bd69-c773-41aa-9183-a39ab1541a44",
   "metadata": {
    "deletable": false,
    "editable": false
   },
   "source": [
    "Wie werden alle verfügbaren Serien durchschnittlich von der Community bewertet?"
   ]
  },
  {
   "cell_type": "code",
   "execution_count": null,
   "id": "dee7b845",
   "metadata": {
    "deletable": false,
    "tags": []
   },
   "outputs": [],
   "source": []
  },
  {
   "cell_type": "markdown",
   "id": "61288f5c-11a4-420e-83a4-4b43cd3d89fb",
   "metadata": {
    "deletable": false,
    "editable": false
   },
   "source": [
    "Wie lautet der Name des Produktionsnetzwerks, das die Serie mit der besten Bewertung produzierte?"
   ]
  },
  {
   "cell_type": "code",
   "execution_count": null,
   "id": "3c958dac",
   "metadata": {
    "deletable": false,
    "tags": []
   },
   "outputs": [],
   "source": []
  },
  {
   "cell_type": "markdown",
   "id": "d67db52c-6753-40ee-885d-52f62af854f1",
   "metadata": {
    "deletable": false,
    "editable": false
   },
   "source": [
    "Bestimmen Sie den Namen des Schauspielers, der die meisten Gastauftritte verzeichnet."
   ]
  },
  {
   "cell_type": "code",
   "execution_count": null,
   "id": "81f4f973",
   "metadata": {
    "deletable": false,
    "tags": []
   },
   "outputs": [],
   "source": []
  },
  {
   "cell_type": "markdown",
   "id": "64cb6f2a-3db2-4e99-b865-a65a85ef3694",
   "metadata": {
    "deletable": false,
    "editable": false
   },
   "source": [
    "Bestimmen Sie, wie viele Episoden jedem einzelnen Genre zugeordnet werden."
   ]
  },
  {
   "cell_type": "code",
   "execution_count": null,
   "id": "c5734853",
   "metadata": {
    "deletable": false,
    "tags": []
   },
   "outputs": [],
   "source": []
  },
  {
   "cell_type": "markdown",
   "id": "a4300f1d-6259-40ba-8c2a-29e0f166b891",
   "metadata": {
    "deletable": false,
    "editable": false
   },
   "source": [
    "Wie populär sind die Darsteller der Stammbesetzung der einzelnen Serien im Durchschnitt? Erstellen Sie eine Statistik, die den Titel der Serie Titel und den Durchschnitt enthält."
   ]
  },
  {
   "cell_type": "code",
   "execution_count": null,
   "id": "dd0824d7",
   "metadata": {
    "deletable": false,
    "tags": []
   },
   "outputs": [],
   "source": []
  },
  {
   "cell_type": "markdown",
   "id": "889a59b8-b7bf-4e31-8bc7-b0b91283f3ca",
   "metadata": {
    "deletable": false,
    "editable": false
   },
   "source": [
    "Welche Serie verzeichnet im Durchschnitt über alle Folgen die meisten Gastauftritte?"
   ]
  },
  {
   "cell_type": "code",
   "execution_count": null,
   "id": "499f5ee5",
   "metadata": {
    "deletable": false,
    "tags": []
   },
   "outputs": [],
   "source": []
  }
 ],
 "metadata": {
  "kernelspec": {
   "display_name": "DuckDB",
   "language": "",
   "name": "duckdb_kernel"
  },
  "language_info": {
   "file_extension": ".sql",
   "mimetype": "application/sql",
   "name": "duckdb"
  }
 },
 "nbformat": 4,
 "nbformat_minor": 5
}
