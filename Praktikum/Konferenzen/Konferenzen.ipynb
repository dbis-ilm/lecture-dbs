{
 "cells": [
  {
   "cell_type": "markdown",
   "id": "2639e94f-cf09-40c7-a55f-0d7a37232290",
   "metadata": {
    "deletable": false,
    "editable": false
   },
   "source": [
    "# Konferenzen"
   ]
  },
  {
   "cell_type": "markdown",
   "id": "79e69211-fccd-429b-b696-5a0c5be65aa2",
   "metadata": {
    "deletable": false,
    "editable": false,
    "slideshow": {
     "slide_type": ""
    },
    "tags": []
   },
   "source": [
    "## Teil 1\n",
    "Entwerfen Sie zu folgendem Szenario ein Entity-Relationship-Diagramm. Achten Sie dabei insbesondere auf die Kennzeichnung der Schlüssel sowie der Kardinalitäten der Beziehungstypen."
   ]
  },
  {
   "cell_type": "markdown",
   "id": "68700633-22d6-4725-8924-c8c3ee7dd011",
   "metadata": {
    "deletable": false,
    "editable": false,
    "slideshow": {
     "slide_type": ""
    },
    "tags": []
   },
   "source": [
    "*Konferenzen besitzen einen Titel, ein Veranstaltungsjahr, einen Ort und einen Schwerpunkt. Der Titel kann mehrfach verwendet werden, allerdings immer nur einmal innerhalb eines Jahres. Konferenzen werden durch Institute veranstaltet, die einen eindeutigen Namen und einen Standort besitzen.*\n",
    "\n",
    "*Teams besitzen einen eindeutigen Namen und einen Teamleiter. Jedes Team ist genau einem Institut zugeordnet. Außerdem können Teams an einer Konferenz mit einem bestimmten Thema teilnehmen. Teams können an einer Konferenz auch mehrfach teilnehmen, sofern sich die Themen unterscheiden.*\n",
    "\n",
    "*Konferenzen werden von Sponsoren finanziert. Diese haben einen eindeutigen Namen und werden einem Land zugeordnet. Sponsoren finanzieren eine Konferenz mit einem bestimmten Betrag. Natürlich kann eine Konferenz auch von mehreren Sponsoren finanziert werden.*"
   ]
  },
  {
   "cell_type": "markdown",
   "id": "f304c3f1-78ed-424b-a239-fd84a4a5313d",
   "metadata": {
    "deletable": false,
    "editable": false,
    "slideshow": {
     "slide_type": ""
    },
    "tags": []
   },
   "source": [
    "## Teil 2\n",
    "Überführen Sie das ER-Diagramm in ein relationales Schema. Kennzeichnen Sie neben den Schlüsseln auch die Fremdschlüsselbeziehungen. Überprüfen Sie, in welcher Normalform sich die relationalen Schemata befinden über transformieren Sie die Schemata ggf. in die dritte Normalform."
   ]
  },
  {
   "cell_type": "markdown",
   "id": "b9718a27-f113-459b-8542-592960a1d383",
   "metadata": {
    "deletable": false,
    "editable": false
   },
   "source": [
    "## Teil 3\n",
    "Importieren Sie die gegebenen Daten in die Datenbank. Übertragen Sie dann die Daten in das zuvor normalisierte Schema."
   ]
  },
  {
   "cell_type": "code",
   "execution_count": null,
   "id": "ee9ed704-1e08-4b86-8444-80fc1dd178d7",
   "metadata": {
    "deletable": false,
    "editable": false,
    "slideshow": {
     "slide_type": ""
    },
    "tags": []
   },
   "outputs": [],
   "source": [
    "%CREATE :memory:\n",
    "CREATE OR REPLACE VIEW base AS FROM read_csv(konferenzen.csv, header=true, delim=',', auto_detect=true)"
   ]
  },
  {
   "cell_type": "code",
   "execution_count": null,
   "id": "f34836c6-18ef-4b06-87c1-ebb61934b3a8",
   "metadata": {
    "deletable": false,
    "editable": false,
    "slideshow": {
     "slide_type": ""
    },
    "tags": []
   },
   "outputs": [],
   "source": [
    "SELECT * FROM base"
   ]
  },
  {
   "cell_type": "markdown",
   "id": "aadb9f08-0fa0-409a-a25f-b18372dea29a",
   "metadata": {
    "deletable": false,
    "editable": false,
    "slideshow": {
     "slide_type": ""
    },
    "tags": []
   },
   "source": [
    "Übertragen Sie die Daten in das zuvor normalisierte Schema."
   ]
  },
  {
   "cell_type": "code",
   "execution_count": null,
   "id": "41d1c297-7607-4d24-8834-2047390f70b7",
   "metadata": {
    "deletable": false,
    "editable": true,
    "slideshow": {
     "slide_type": ""
    },
    "tags": []
   },
   "outputs": [],
   "source": []
  },
  {
   "cell_type": "code",
   "execution_count": null,
   "id": "1dd705a4-267a-4d74-b967-3ff42bf0d71c",
   "metadata": {
    "deletable": false,
    "editable": true,
    "slideshow": {
     "slide_type": ""
    },
    "tags": []
   },
   "outputs": [],
   "source": []
  },
  {
   "cell_type": "code",
   "execution_count": null,
   "id": "5f3d5049-dc85-4719-af6d-246b11644d7e",
   "metadata": {
    "deletable": false,
    "editable": true,
    "slideshow": {
     "slide_type": ""
    },
    "tags": []
   },
   "outputs": [],
   "source": []
  },
  {
   "cell_type": "markdown",
   "id": "44a051f4-f579-4a3c-9c9f-efdd35ad9406",
   "metadata": {
    "deletable": false,
    "editable": false,
    "slideshow": {
     "slide_type": ""
    },
    "tags": []
   },
   "source": [
    "## Teil 4\n",
    "Formulieren Sie folgende Anfragen in SQL."
   ]
  },
  {
   "cell_type": "markdown",
   "id": "28b6c748-a66b-414a-83a2-584a57c8a844",
   "metadata": {
    "deletable": false,
    "editable": false,
    "slideshow": {
     "slide_type": ""
    },
    "tags": []
   },
   "source": [
    "Welche Sponsoren haben die Konferenz mit dem Titel *Quantentechnologie der Zukunft* finanziert?"
   ]
  },
  {
   "cell_type": "code",
   "execution_count": null,
   "id": "7dd84db1-f912-4f8b-a2a9-fb72af4e1171",
   "metadata": {
    "deletable": false,
    "editable": true,
    "slideshow": {
     "slide_type": ""
    },
    "tags": []
   },
   "outputs": [],
   "source": []
  },
  {
   "cell_type": "markdown",
   "id": "3cae3258-31be-45ed-a9c5-ffb9bd4eaf4b",
   "metadata": {
    "deletable": false,
    "editable": false,
    "slideshow": {
     "slide_type": ""
    },
    "tags": []
   },
   "source": [
    "Zu welcher Konferenz wurde die größte Anzahl an Themen eingereicht?"
   ]
  },
  {
   "cell_type": "code",
   "execution_count": null,
   "id": "1c5fe2e2-5670-468d-b6ac-a170451e1f37",
   "metadata": {
    "deletable": false,
    "editable": true,
    "slideshow": {
     "slide_type": ""
    },
    "tags": []
   },
   "outputs": [],
   "source": []
  },
  {
   "attachments": {},
   "cell_type": "markdown",
   "id": "243b10aa-e57e-406e-ae38-620071417f90",
   "metadata": {
    "deletable": false,
    "editable": false,
    "slideshow": {
     "slide_type": ""
    },
    "tags": []
   },
   "source": [
    "Welches Institut veranstaltet die Konferenz mit der größten Einzelspende?"
   ]
  },
  {
   "cell_type": "code",
   "execution_count": null,
   "id": "0b80bf8f-319d-430d-9a5f-9b12dc307fb8",
   "metadata": {
    "deletable": false,
    "editable": true,
    "slideshow": {
     "slide_type": ""
    },
    "tags": []
   },
   "outputs": [],
   "source": []
  },
  {
   "cell_type": "markdown",
   "id": "e5559bfe-d30c-44c1-8d42-a8a676a2b0a8",
   "metadata": {
    "deletable": false,
    "editable": false,
    "slideshow": {
     "slide_type": ""
    },
    "tags": []
   },
   "source": [
    "Wie hoch sind im Durchschnitt die Spenden der Sponsoren?"
   ]
  },
  {
   "cell_type": "code",
   "execution_count": null,
   "id": "11d2e6a4-6137-4fb1-8718-48cc849c378f",
   "metadata": {
    "deletable": false,
    "editable": true,
    "slideshow": {
     "slide_type": ""
    },
    "tags": []
   },
   "outputs": [],
   "source": []
  },
  {
   "cell_type": "markdown",
   "id": "9f69263e-3075-4361-b8dd-ef448da51753",
   "metadata": {
    "deletable": false,
    "editable": false,
    "slideshow": {
     "slide_type": ""
    },
    "tags": []
   },
   "source": [
    "Welches Team hat insgesamt die meisten Themen eingereicht?"
   ]
  },
  {
   "cell_type": "code",
   "execution_count": null,
   "id": "f1f5fb70-d688-4925-b917-f0cc21478b8c",
   "metadata": {
    "deletable": false,
    "editable": true,
    "slideshow": {
     "slide_type": ""
    },
    "tags": []
   },
   "outputs": [],
   "source": []
  },
  {
   "cell_type": "markdown",
   "id": "857ff487-dd02-4abc-9afb-c9ca8f9c849e",
   "metadata": {
    "deletable": false,
    "editable": false,
    "slideshow": {
     "slide_type": ""
    },
    "tags": []
   },
   "source": [
    "Wie viele Themen werden im Durchschnitt zu jeder Konferenz eingereicht?"
   ]
  },
  {
   "cell_type": "code",
   "execution_count": null,
   "id": "a77b8ebc-9162-4829-87dd-1e1722a77dd9",
   "metadata": {
    "deletable": false,
    "editable": true,
    "slideshow": {
     "slide_type": ""
    },
    "tags": []
   },
   "outputs": [],
   "source": []
  },
  {
   "cell_type": "markdown",
   "id": "644a5f5d-9b4e-40f9-afac-a016d0cd23af",
   "metadata": {
    "deletable": false,
    "editable": false,
    "slideshow": {
     "slide_type": ""
    },
    "tags": []
   },
   "source": [
    "Der Standort welcher Institute hat in Summe die meisten Spenden für die veranstalteten Konferenzen erhalten?"
   ]
  },
  {
   "cell_type": "code",
   "execution_count": null,
   "id": "6d93f3da-26bb-4d5a-a909-021c7d5f8822",
   "metadata": {
    "deletable": false,
    "editable": true,
    "slideshow": {
     "slide_type": ""
    },
    "tags": []
   },
   "outputs": [],
   "source": []
  },
  {
   "cell_type": "markdown",
   "id": "f9da335e-ab44-41e4-a2d5-b74113eb8f30",
   "metadata": {
    "deletable": false,
    "editable": false,
    "slideshow": {
     "slide_type": ""
    },
    "tags": []
   },
   "source": [
    "Wie ist das Verhältnis aus Kosten pro eingereichtem Thema für jede einzelne Konferenz?"
   ]
  },
  {
   "cell_type": "code",
   "execution_count": null,
   "id": "2f10c548-6d7e-4849-a06b-3eead2c9f3b5",
   "metadata": {
    "deletable": false,
    "editable": true,
    "slideshow": {
     "slide_type": ""
    },
    "tags": []
   },
   "outputs": [],
   "source": []
  }
 ],
 "metadata": {
  "kernelspec": {
   "display_name": "DuckDB",
   "language": "",
   "name": "duckdb_kernel"
  },
  "language_info": {
   "file_extension": ".sql",
   "mimetype": "application/sql",
   "name": "duckdb"
  }
 },
 "nbformat": 4,
 "nbformat_minor": 5
}
