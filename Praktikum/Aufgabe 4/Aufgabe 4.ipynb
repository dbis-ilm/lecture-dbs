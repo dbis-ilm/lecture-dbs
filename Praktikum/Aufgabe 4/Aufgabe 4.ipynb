{
 "cells": [
  {
   "cell_type": "markdown",
   "id": "b7151055-9732-468c-99fe-6eb413d991ee",
   "metadata": {
    "deletable": false,
    "editable": false
   },
   "source": [
    "# Aufgabe 4: Vereine"
   ]
  },
  {
   "cell_type": "markdown",
   "id": "d9b4f743-4fc0-4ec1-b83a-fae44987de73",
   "metadata": {
    "deletable": false,
    "editable": false
   },
   "source": [
    "## Teil 1\n",
    "Entwerfen Sie zu folgendem Szenario ein Entity-Relationship-Diagramm. Achten Sie dabei insbesondere auf die Kennzeichnung der Schlüssel sowie der Kardinalitäten der Beziehungstypen."
   ]
  },
  {
   "cell_type": "markdown",
   "id": "20b6283e-c101-4f38-bd04-2802dff5f809",
   "metadata": {
    "deletable": false,
    "editable": false
   },
   "source": [
    "*Das Vereinsleben der TU Ilmenau zeichnet sich durch seine ausgeprägte Vielfalt aus. Vereine (mit eindeutigem Namen, Kürzel und Gründungsjahr) besitzen Mitglieder, die jeweils eine bestimmte Position im Verein innehaben. Personen (mit Name, Geburtsdatum und Typ) können dabei auch mehreren Vereinen gleichzeitig angehören, wobei jede Person mindestens in einem Verein aktiv ist. Außerdem organisieren die meisten Vereine zahlreiche Veranstaltungen (mit Name und Datum) im Jahr. Diese finden an jeweils einem festen Ort (mit Name und Beschreibung) statt. Veranstaltungen, die jedes Jahr erneut stattinden, unterscheiden sich lediglich hinsichtlich des Veranstaltungsdatums. Veranstaltungen können auch zeitgleich in Kombination mit anderen Veranstaltungen an einem Ort stattfinden.*"
   ]
  },
  {
   "cell_type": "markdown",
   "id": "41fcf71e-9772-49a0-9f79-7b959ead730d",
   "metadata": {
    "deletable": false,
    "editable": false
   },
   "source": [
    "## Teil 2\n",
    "Überführen Sie das ER-Diagramm in ein relationales Schema. Kennzeichnen Sie neben den Schlüsseln auch die Fremdschlüsselbeziehungen. Überprüfen Sie, in welcher Normalform sich die relationalen Schemata befinden über transformieren Sie die Schemata ggf. in die dritte Normalform."
   ]
  },
  {
   "cell_type": "markdown",
   "id": "f48cd45d-3d70-437c-9798-9274147ca020",
   "metadata": {
    "deletable": false,
    "editable": false
   },
   "source": [
    "## Teil 3\n",
    "Importieren Sie die gegebenen Daten in die Datenbank."
   ]
  },
  {
   "cell_type": "code",
   "execution_count": null,
   "id": "b0419979-c4f7-41a5-8436-700d3d9c996d",
   "metadata": {
    "deletable": false,
    "editable": false
   },
   "outputs": [],
   "source": [
    "%CREATE :memory:\n",
    "CREATE OR REPLACE VIEW base AS FROM read_csv(dataset.csv, header=true, delim=',', auto_detect=true, dateformat='%d.%m.%Y')"
   ]
  },
  {
   "cell_type": "code",
   "execution_count": null,
   "id": "6dd68f55-540c-451e-bea3-a83eee651c3c",
   "metadata": {
    "deletable": false,
    "editable": false
   },
   "outputs": [],
   "source": [
    "SELECT * FROM base"
   ]
  },
  {
   "cell_type": "markdown",
   "id": "55d1f3ef-ed33-4a55-867d-b8b262913444",
   "metadata": {
    "deletable": false,
    "editable": false
   },
   "source": [
    "Übertragen Sie die Daten in das zuvor normalisierte Schema."
   ]
  },
  {
   "cell_type": "code",
   "execution_count": null,
   "id": "c61ac437",
   "metadata": {
    "deletable": false,
    "tags": []
   },
   "outputs": [],
   "source": []
  },
  {
   "cell_type": "code",
   "execution_count": null,
   "id": "cec3d3df",
   "metadata": {
    "deletable": false,
    "tags": []
   },
   "outputs": [],
   "source": []
  },
  {
   "cell_type": "code",
   "execution_count": null,
   "id": "7a62b759",
   "metadata": {
    "deletable": false,
    "tags": []
   },
   "outputs": [],
   "source": []
  },
  {
   "cell_type": "markdown",
   "id": "442b3a7a-d31b-4346-b404-1fd2324ebcdf",
   "metadata": {
    "deletable": false,
    "editable": false
   },
   "source": [
    "## Teil 4\n",
    "Formulieren Sie folgende Anfragen in SQL."
   ]
  },
  {
   "cell_type": "markdown",
   "id": "1083f326-a5e7-4b38-a4f4-eb7bcb6e0eed",
   "metadata": {
    "deletable": false,
    "editable": false
   },
   "source": [
    "In welchem Jahr wurde der Verein \"Kulinarische Koordinierung\" gegründet?"
   ]
  },
  {
   "cell_type": "code",
   "execution_count": null,
   "id": "28b65c75",
   "metadata": {
    "deletable": false,
    "tags": []
   },
   "outputs": [],
   "source": []
  },
  {
   "cell_type": "markdown",
   "id": "9bb84d69-c8d1-4d39-b892-9074e07cb057",
   "metadata": {
    "deletable": false,
    "editable": false
   },
   "source": [
    "Welcher Verein (Vereinsname, Anzahl) hat die meisten Mitglieder?"
   ]
  },
  {
   "cell_type": "code",
   "execution_count": null,
   "id": "73100b1b",
   "metadata": {
    "deletable": false,
    "tags": []
   },
   "outputs": [],
   "source": []
  },
  {
   "cell_type": "markdown",
   "id": "00b4ab83-12df-45c3-aa1d-02a0974ff932",
   "metadata": {
    "deletable": false,
    "editable": false
   },
   "source": [
    "Welche Person (Name, Anzahl) ist in den meisten Vereinen gleichzeitig aktiv?"
   ]
  },
  {
   "cell_type": "code",
   "execution_count": null,
   "id": "c970af3e",
   "metadata": {
    "deletable": false,
    "tags": []
   },
   "outputs": [],
   "source": []
  },
  {
   "cell_type": "markdown",
   "id": "61288f5c-11a4-420e-83a4-4b43cd3d89fb",
   "metadata": {
    "deletable": false,
    "editable": false
   },
   "source": [
    "Erstellen Sie eine Statistik bestehend aus Typ und Anzahl, wieviele Studenten, Mitarbeiter und Externe in Vereinen aktiv sind."
   ]
  },
  {
   "cell_type": "code",
   "execution_count": null,
   "id": "b25c4c31",
   "metadata": {
    "deletable": false,
    "tags": []
   },
   "outputs": [],
   "source": []
  },
  {
   "cell_type": "markdown",
   "id": "d67db52c-6753-40ee-885d-52f62af854f1",
   "metadata": {
    "deletable": false,
    "editable": false
   },
   "source": [
    "Welcher Verein (Name, Anzahl) organisiert die meisten Veranstaltungen?"
   ]
  },
  {
   "cell_type": "code",
   "execution_count": null,
   "id": "34d283d5",
   "metadata": {
    "deletable": false,
    "tags": []
   },
   "outputs": [],
   "source": []
  },
  {
   "cell_type": "markdown",
   "id": "64cb6f2a-3db2-4e99-b865-a65a85ef3694",
   "metadata": {
    "deletable": false,
    "editable": false
   },
   "source": [
    "An welchem Ort (Name, Anzahl) finden die meisten verschiedenen Veranstaltungen statt?"
   ]
  },
  {
   "cell_type": "code",
   "execution_count": null,
   "id": "e4cac255",
   "metadata": {
    "deletable": false,
    "tags": []
   },
   "outputs": [],
   "source": []
  },
  {
   "cell_type": "markdown",
   "id": "a4300f1d-6259-40ba-8c2a-29e0f166b891",
   "metadata": {
    "deletable": false,
    "editable": false
   },
   "source": [
    "Welcher Verein (Name, Anzahl) hat die meisten studentischen Mitglieder?"
   ]
  },
  {
   "cell_type": "code",
   "execution_count": null,
   "id": "1d3f85d2",
   "metadata": {
    "deletable": false,
    "tags": []
   },
   "outputs": [],
   "source": []
  },
  {
   "cell_type": "markdown",
   "id": "889a59b8-b7bf-4e31-8bc7-b0b91283f3ca",
   "metadata": {
    "deletable": false,
    "editable": false
   },
   "source": [
    "Ermitteln Sie den Verein (Name, Verhältnis), der im Verhältnis zu der Anzahl seiner Mitglieder meisten Veranstaltungen organisiert."
   ]
  },
  {
   "cell_type": "code",
   "execution_count": null,
   "id": "78a0f86a",
   "metadata": {
    "deletable": false,
    "tags": []
   },
   "outputs": [],
   "source": []
  }
 ],
 "metadata": {
  "kernelspec": {
   "display_name": "DuckDB",
   "language": "",
   "name": "duckdb_kernel"
  },
  "language_info": {
   "file_extension": ".sql",
   "mimetype": "application/sql",
   "name": "duckdb"
  }
 },
 "nbformat": 4,
 "nbformat_minor": 5
}
