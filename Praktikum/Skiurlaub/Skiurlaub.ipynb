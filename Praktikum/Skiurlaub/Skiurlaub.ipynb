{
 "cells": [
  {
   "cell_type": "markdown",
   "id": "24abfe8f-56a8-49e4-9976-c4dd665d8321",
   "metadata": {
    "deletable": false,
    "editable": false,
    "slideshow": {
     "slide_type": ""
    },
    "tags": []
   },
   "source": [
    "# Skiurlaub"
   ]
  },
  {
   "cell_type": "markdown",
   "id": "5f4407f2-5743-445b-b595-2e65a777ee9f",
   "metadata": {
    "deletable": false,
    "editable": false,
    "slideshow": {
     "slide_type": ""
    },
    "tags": []
   },
   "source": [
    "## Teil 1\n",
    "Entwerfen Sie zu folgendem Szenario ein Entity-Relationship-Diagramm. Achten Sie dabei insbesondere auf die Kennzeichnung der Schlüssel sowie der Kardinalitäten der Beziehungstypen."
   ]
  },
  {
   "cell_type": "markdown",
   "id": "27d9f3c5-c5bc-496c-9a15-80c262b6ab15",
   "metadata": {
    "deletable": false,
    "editable": false,
    "slideshow": {
     "slide_type": ""
    },
    "tags": []
   },
   "source": [
    "*Skigebiete bieten eine Vielzahl von Aktivitäten und Einrichtungen für Besucher an. Jedes Skigebiet hat einen eindeutigen Namen, eine Region, eine Höhenlage und eine Saisonzeit. Regionen haben einen eindeutigen Namen und sind einem Land zugeordnet. Eine Region kann mehrere Skigebiete umfassen.*\n",
    "\n",
    "*Skipisten sind zentrale Bestandteile eines jeden Skigebiets. Sie alle besitzen einen Namen, eine Länge, eine Farbe zur Bewertung der Schwierigkeit und eine Kapazität, wie viele Personen sie pro Tag befahren können. In jeder Region gibt es außerdem Unterkünfte, um besucher unterzubringen. Unterkünfte haben einen Namen, einen Typ (z.B. Hotel) und eine Anzahl an Betten.*\n",
    "\n",
    "*Skischulen bieten in den Gebieten Übungsstunden an. Jede Schule hat einen Namen, einen Schwerpunkt (z.B. Snowboard) und richtet sich an eine spezifische Zielgruppe. Eine Skischule kann auch in mehreren Skigebieten gleichzeitig Übungsstunden anbieten.*"
   ]
  },
  {
   "cell_type": "markdown",
   "id": "c11ed3d6-e860-40b9-b24b-f319c0c4e0ba",
   "metadata": {
    "deletable": false,
    "editable": false,
    "slideshow": {
     "slide_type": ""
    },
    "tags": []
   },
   "source": [
    "## Teil 2\n",
    "Überführen Sie das ER-Diagramm in ein relationales Schema. Kennzeichnen Sie neben den Schlüsseln auch die Fremdschlüsselbeziehungen. Überprüfen Sie, in welcher Normalform sich die relationalen Schemata befinden über transformieren Sie die Schemata ggf. in die dritte Normalform."
   ]
  },
  {
   "cell_type": "markdown",
   "id": "b7441e00-9999-4782-91c5-fddae038a500",
   "metadata": {
    "deletable": false,
    "editable": false,
    "slideshow": {
     "slide_type": ""
    },
    "tags": []
   },
   "source": [
    "## Teil 3\n",
    "Importieren Sie die gegebenen Daten in die Datenbank."
   ]
  },
  {
   "cell_type": "code",
   "execution_count": null,
   "id": "2ed187eb-3ac4-40e5-9050-6b3aca8afad9",
   "metadata": {
    "deletable": false,
    "editable": false,
    "slideshow": {
     "slide_type": ""
    },
    "tags": []
   },
   "outputs": [],
   "source": [
    "%CREATE :memory:\n",
    "CREATE OR REPLACE VIEW base AS FROM read_csv(skiurlaub.csv, header=true, delim=',', auto_detect=true)"
   ]
  },
  {
   "cell_type": "code",
   "execution_count": null,
   "id": "00e98cb5-5e04-4f73-93d8-8ca9423c54c1",
   "metadata": {
    "deletable": false,
    "editable": false,
    "slideshow": {
     "slide_type": ""
    },
    "tags": []
   },
   "outputs": [],
   "source": [
    "SELECT * FROM base"
   ]
  },
  {
   "cell_type": "code",
   "execution_count": null,
   "id": "37e5c7e9-af8a-478c-9bce-863aa6289e6e",
   "metadata": {
    "deletable": false,
    "editable": true,
    "slideshow": {
     "slide_type": ""
    },
    "tags": []
   },
   "outputs": [],
   "source": []
  },
  {
   "cell_type": "code",
   "execution_count": null,
   "id": "3b9ff62e-5d9a-4f8f-b3db-9b39873439c6",
   "metadata": {
    "deletable": false,
    "editable": true,
    "slideshow": {
     "slide_type": ""
    },
    "tags": []
   },
   "outputs": [],
   "source": []
  },
  {
   "cell_type": "code",
   "execution_count": null,
   "id": "4dc02e46-b258-439f-b7b4-039d2ad16a58",
   "metadata": {
    "deletable": false,
    "editable": true,
    "slideshow": {
     "slide_type": ""
    },
    "tags": []
   },
   "outputs": [],
   "source": []
  },
  {
   "cell_type": "markdown",
   "id": "5ccf8400-4ecb-457e-85c8-fbe6de7c80e1",
   "metadata": {
    "deletable": false,
    "editable": false,
    "slideshow": {
     "slide_type": ""
    },
    "tags": []
   },
   "source": [
    "## Teil 4\n",
    "Formulieren Sie folgende Anfragen in SQL."
   ]
  },
  {
   "cell_type": "markdown",
   "id": "98b0de0d-f3e4-4f64-890a-35dfb505de3c",
   "metadata": {
    "deletable": false,
    "editable": false,
    "slideshow": {
     "slide_type": ""
    },
    "tags": []
   },
   "source": [
    "Wie lautet der Name des Gebiets der Skipiste *Jupiter Bowl*?"
   ]
  },
  {
   "cell_type": "code",
   "execution_count": null,
   "id": "e71fa523-bc51-47c7-b350-70e2b6b140d0",
   "metadata": {
    "deletable": false,
    "editable": true,
    "slideshow": {
     "slide_type": ""
    },
    "tags": []
   },
   "outputs": [],
   "source": []
  },
  {
   "cell_type": "markdown",
   "id": "e16ca9fc-0b28-406b-81fb-48f59854d8b4",
   "metadata": {
    "deletable": false,
    "editable": false,
    "slideshow": {
     "slide_type": ""
    },
    "tags": []
   },
   "source": [
    "Welche Piste hat die größte Länge?"
   ]
  },
  {
   "cell_type": "code",
   "execution_count": null,
   "id": "2bbed684-ca63-41e6-acc1-23333b3ada19",
   "metadata": {
    "deletable": false,
    "editable": true,
    "slideshow": {
     "slide_type": ""
    },
    "tags": []
   },
   "outputs": [],
   "source": []
  },
  {
   "cell_type": "markdown",
   "id": "c82c77df-cde3-49d4-a568-d1e66a111650",
   "metadata": {
    "deletable": false,
    "editable": false,
    "slideshow": {
     "slide_type": ""
    },
    "tags": []
   },
   "source": [
    "Wie viele Betten haben die Unterkünfte im Durchschnitt?"
   ]
  },
  {
   "cell_type": "code",
   "execution_count": null,
   "id": "3ea81732-8edd-4a6b-9810-e33b2dc6a02c",
   "metadata": {
    "deletable": false,
    "editable": true,
    "slideshow": {
     "slide_type": ""
    },
    "tags": []
   },
   "outputs": [],
   "source": []
  },
  {
   "cell_type": "markdown",
   "id": "e66a70d4-1549-49bc-aedb-65a35940e4df",
   "metadata": {
    "deletable": false,
    "editable": false,
    "slideshow": {
     "slide_type": ""
    },
    "tags": []
   },
   "source": [
    "In welcher Region sind die meisten Schulen aktiv?"
   ]
  },
  {
   "cell_type": "code",
   "execution_count": null,
   "id": "afcc9f92-3e7f-4cfa-ab5c-1f594f4f35fe",
   "metadata": {
    "deletable": false,
    "editable": true,
    "slideshow": {
     "slide_type": ""
    },
    "tags": []
   },
   "outputs": [],
   "source": []
  },
  {
   "cell_type": "markdown",
   "id": "54ef0184-e292-4623-b896-c285a7c86615",
   "metadata": {
    "deletable": false,
    "editable": false,
    "slideshow": {
     "slide_type": ""
    },
    "tags": []
   },
   "source": [
    "Welches Land hat die längste Piste?"
   ]
  },
  {
   "cell_type": "code",
   "execution_count": null,
   "id": "00d1e33e-6198-4b9c-9f5d-ce99ac9f82f2",
   "metadata": {
    "deletable": false,
    "editable": true,
    "slideshow": {
     "slide_type": ""
    },
    "tags": []
   },
   "outputs": [],
   "source": []
  },
  {
   "cell_type": "markdown",
   "id": "cee2d164-ae1d-4785-b512-f37dbff20076",
   "metadata": {
    "deletable": false,
    "editable": false,
    "slideshow": {
     "slide_type": ""
    },
    "tags": []
   },
   "source": [
    "Welches Gebiet hat in Summe die längsten Pisten?"
   ]
  },
  {
   "cell_type": "code",
   "execution_count": null,
   "id": "8650b523-149c-449c-b657-f8ba64c06254",
   "metadata": {
    "deletable": false,
    "editable": true,
    "slideshow": {
     "slide_type": ""
    },
    "tags": []
   },
   "outputs": [],
   "source": []
  },
  {
   "cell_type": "markdown",
   "id": "1d305241-c18a-4e55-a0a3-ae245b51a711",
   "metadata": {
    "deletable": false,
    "editable": false,
    "slideshow": {
     "slide_type": ""
    },
    "tags": []
   },
   "source": [
    "Wie viele Schulen werden jeder einzelnen Region zugeordnet?"
   ]
  },
  {
   "cell_type": "code",
   "execution_count": null,
   "id": "87ce22d5-2772-4e8b-bdf2-38af4dd7f359",
   "metadata": {
    "deletable": false,
    "editable": true,
    "slideshow": {
     "slide_type": ""
    },
    "tags": []
   },
   "outputs": [],
   "source": []
  },
  {
   "cell_type": "markdown",
   "id": "fec730e9-ff1f-42d1-85c2-83b74127b550",
   "metadata": {
    "deletable": false,
    "editable": false,
    "slideshow": {
     "slide_type": ""
    },
    "tags": []
   },
   "source": [
    "Eine Region benötigt mehr Hotels, wenn die summierte Kapazität der Pisten die summierte Kapazität der Betten übersteigt. Welche Regionen benötigen mehr Hotels?"
   ]
  },
  {
   "cell_type": "code",
   "execution_count": null,
   "id": "6a824d36-1305-4e41-861b-cbacab35d715",
   "metadata": {
    "deletable": false,
    "editable": true,
    "slideshow": {
     "slide_type": ""
    },
    "tags": []
   },
   "outputs": [],
   "source": []
  }
 ],
 "metadata": {
  "kernelspec": {
   "display_name": "DuckDB",
   "language": "",
   "name": "duckdb_kernel"
  },
  "language_info": {
   "file_extension": ".sql",
   "mimetype": "application/sql",
   "name": "duckdb"
  }
 },
 "nbformat": 4,
 "nbformat_minor": 5
}
