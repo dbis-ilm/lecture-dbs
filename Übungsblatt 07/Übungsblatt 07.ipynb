{
 "cells": [
  {
   "cell_type": "markdown",
   "id": "439c48fc",
   "metadata": {
    "deletable": false,
    "editable": false,
    "slideshow": {
     "slide_type": ""
    },
    "tags": []
   },
   "source": [
    "# Übungsblatt 07\n",
    "Laden Sie die Daten, bevor Sie mit der Arbeit beginnen."
   ]
  },
  {
   "cell_type": "code",
   "execution_count": null,
   "id": "f3594fac",
   "metadata": {
    "deletable": false,
    "editable": false
   },
   "outputs": [],
   "source": [
    "%CREATE pg://localhost OF tables.sql"
   ]
  },
  {
   "cell_type": "markdown",
   "id": "6c349d2a",
   "metadata": {
    "deletable": false,
    "editable": false
   },
   "source": [
    "## Aufgabe 1\n",
    "Eine Hotelkette verwaltet die große Anzahl ihrer Ferienhotels mit einem relationalen Datenbanksystem.\n",
    "\n",
    "Die Ferienhotels können nur wochenweise gebucht werden. Das Attribut `AnzPers` in Buchung beinhaltet die Anzahl der anreisenden Personen je Buchung. Die Attribute `AnzDZ` und `AnzEZ` geben Auskunft über die Anzahl der vom Gast gewünschten Doppel- bzw. Einzelzimmer. Die Attribute `DZ` und `EZ` in `Hotel` stehen für die Gesamtkapazität an Doppel- bzw. Einzelzimmern eines Hotels."
   ]
  },
  {
   "cell_type": "code",
   "execution_count": null,
   "id": "3f1d6ed5-aad9-472d-92b7-6eecc2c51130",
   "metadata": {
    "deletable": false,
    "editable": false
   },
   "outputs": [],
   "source": [
    "%SCHEMA ONLY hotel"
   ]
  },
  {
   "cell_type": "markdown",
   "id": "b8d3083f-d949-44f2-bc42-148901f2fb88",
   "metadata": {
    "deletable": false,
    "editable": false
   },
   "source": [
    "Das Hotel möchte auf eine neue Version von PostgreSQL umstellen. Versionen seit 8.4 unterstützen allerdings keine Constraints mehr auf Schema-Level. Schreiben Sie daher die gegebenen Assertions in PostgreSQL kompatible Trigger um."
   ]
  },
  {
   "cell_type": "markdown",
   "id": "ba1c7cd8",
   "metadata": {
    "deletable": false,
    "editable": false,
    "slideshow": {
     "slide_type": ""
    },
    "tags": []
   },
   "source": [
    "### Teil a\n",
    "Schließen Sie Überbelegungen der Zimmer aus. Alle anreisenden Personen je Buchung müssen in den gebuchten Zimmern unterkommen, also mindestens ein Bett haben:\n",
    "\n",
    "```sql\n",
    "CREATE ASSERTION Ueberbelegung\n",
    "CHECK (\n",
    "    NOT EXISTS (\n",
    "        SELECT *\n",
    "        FROM Buchung\n",
    "        WHERE AnzPers > 2 * AnzDz + AnzEz\n",
    "    )\u0000)\n",
    "```"
   ]
  },
  {
   "cell_type": "code",
   "execution_count": null,
   "id": "66c9519e-5568-424a-813a-8145c0e345b3",
   "metadata": {
    "deletable": false,
    "slideshow": {
     "slide_type": ""
    },
    "tags": []
   },
   "outputs": [],
   "source": [
    "CREATE FUNCTION pruefe_ueberbelegung()\n",
    "    RETURNS trigger AS\n",
    "$func$\n",
    "BEGIN\n",
    "    /* TODO\n",
    "     * ungültige Fälle ausschließen\n",
    "     */\n",
    "    RETURN NEW;\n",
    "END\n",
    "$func$ LANGUAGE plpgsql;"
   ]
  },
  {
   "cell_type": "code",
   "execution_count": null,
   "id": "88694c9d",
   "metadata": {
    "deletable": false,
    "editable": false,
    "slideshow": {
     "slide_type": ""
    },
    "tags": []
   },
   "outputs": [],
   "source": [
    "CREATE TRIGGER ueberbelegung\n",
    "BEFORE INSERT ON buchung\n",
    "FOR EACH ROW\n",
    "EXECUTE PROCEDURE pruefe_ueberbelegung()"
   ]
  },
  {
   "cell_type": "markdown",
   "id": "a7c1a5d2-5bc6-4441-a676-03814d36ebcc",
   "metadata": {
    "deletable": false,
    "editable": false,
    "slideshow": {
     "slide_type": ""
    },
    "tags": []
   },
   "source": [
    "Die nachfolgenden Statements dienen der Prüfung des Triggers."
   ]
  },
  {
   "cell_type": "code",
   "execution_count": null,
   "id": "a52291f7-bba9-4091-af02-02bda1a33164",
   "metadata": {
    "deletable": false,
    "editable": false,
    "slideshow": {
     "slide_type": ""
    },
    "tags": []
   },
   "outputs": [],
   "source": [
    "INSERT INTO Buchung (GastID, HName, Anreise, AnzPers, AnzDZ, AnzEZ) VALUES\n",
    "    (1, 'Bergoase Resort', '2024-01-01', 5, 3, 0);"
   ]
  },
  {
   "cell_type": "code",
   "execution_count": null,
   "id": "807be438-c32c-4ab2-b456-b9acab5753e5",
   "metadata": {
    "deletable": false,
    "editable": false,
    "slideshow": {
     "slide_type": ""
    },
    "tags": [
     "raises-exception"
    ]
   },
   "outputs": [],
   "source": [
    "INSERT INTO Buchung (GastID, HName, Anreise, AnzPers, AnzDZ, AnzEZ) VALUES\n",
    "    (2, 'Grüne Oase Hotel', '2024-02-01', 6, 2, 1);"
   ]
  },
  {
   "cell_type": "markdown",
   "id": "19788c17",
   "metadata": {
    "deletable": false,
    "editable": false,
    "slideshow": {
     "slide_type": ""
    },
    "tags": []
   },
   "source": [
    "### Teil b\n",
    "Achten Sie darauf, dass für alle Anreisetermine die Hotelkapazitäten nicht überschritten werden, d.h. weder zu viele Einzelzimmer noch zu viele Doppelzimmer vergeben sind.\n",
    "\n",
    "```sql\n",
    "CREATE ASSERTION Ueberbuchung\n",
    "CHECK (\n",
    "    NOT EXISTS (\n",
    "        SELECT hotel.HName\n",
    "        FROM buchung, hotel\n",
    "        WHERE buchung.HName = hotel.HName\n",
    "        GROUP BY hotel.HName, Anreise, hotel.DZ, hotel.EZ\n",
    "        HAVING SUM(buchung.AnzDz) > hotel.DZ OR SUM(buchung.AnzEz) > hotel.EZ\n",
    "    )\n",
    ")\n",
    "```"
   ]
  },
  {
   "cell_type": "code",
   "execution_count": null,
   "id": "ffc94f6c",
   "metadata": {
    "deletable": false,
    "slideshow": {
     "slide_type": ""
    },
    "tags": []
   },
   "outputs": [],
   "source": [
    "CREATE FUNCTION pruefe_ueberbuchung()\n",
    "    RETURNS trigger AS\n",
    "$func$\n",
    "BEGIN\n",
    "    /* TODO\n",
    "     * ungültige Fälle ausschließen\n",
    "     */\n",
    "    RETURN NEW;\n",
    "END\n",
    "$func$ LANGUAGE plpgsql;"
   ]
  },
  {
   "cell_type": "code",
   "execution_count": null,
   "id": "d7cc5a67-31fc-4828-bd1b-b32daba438e7",
   "metadata": {
    "deletable": false,
    "editable": false,
    "slideshow": {
     "slide_type": ""
    },
    "tags": []
   },
   "outputs": [],
   "source": [
    "CREATE TRIGGER ueberbuchung\n",
    "BEFORE INSERT ON buchung\n",
    "FOR EACH ROW\n",
    "EXECUTE PROCEDURE pruefe_ueberbuchung()"
   ]
  },
  {
   "cell_type": "markdown",
   "id": "87e99e74-7d2c-4662-85a0-f7274a4eb0d9",
   "metadata": {
    "deletable": false,
    "editable": false,
    "slideshow": {
     "slide_type": ""
    },
    "tags": []
   },
   "source": [
    "Die nachfolgenden Statements dienen der Prüfung des Triggers."
   ]
  },
  {
   "cell_type": "code",
   "execution_count": null,
   "id": "26450dba-ef3a-41f1-89d3-83f943be1eb2",
   "metadata": {
    "deletable": false,
    "editable": false,
    "slideshow": {
     "slide_type": ""
    },
    "tags": []
   },
   "outputs": [],
   "source": [
    "INSERT INTO Buchung (GastID, HName, Anreise, AnzPers, AnzDZ, AnzEZ) VALUES\n",
    "    (11, 'Stadtpalais Hotel', '2024-02-01', 5, 3, 3)"
   ]
  },
  {
   "cell_type": "code",
   "execution_count": null,
   "id": "34ea2eae",
   "metadata": {
    "deletable": false,
    "editable": false,
    "slideshow": {
     "slide_type": ""
    },
    "tags": [
     "raises-exception"
    ]
   },
   "outputs": [],
   "source": [
    "INSERT INTO Buchung (GastID, HName, Anreise, AnzPers, AnzDZ, AnzEZ) VALUES\n",
    "    (12, 'Stadtpalais Hotel', '2024-03-01', 2, 1, 0)"
   ]
  },
  {
   "cell_type": "code",
   "execution_count": null,
   "id": "21c12975-b3cf-4bab-81ef-b757f7cff9d1",
   "metadata": {
    "deletable": false,
    "editable": false,
    "slideshow": {
     "slide_type": ""
    },
    "tags": []
   },
   "outputs": [],
   "source": [
    "INSERT INTO Buchung (GastID, HName, Anreise, AnzPers, AnzDZ, AnzEZ) VALUES\n",
    "    (13, 'Alpenblick Lodge', '2024-04-01', 5, 2, 3)"
   ]
  },
  {
   "cell_type": "code",
   "execution_count": null,
   "id": "82fc82aa-3f06-43df-b8aa-7b8850b109fe",
   "metadata": {
    "deletable": false,
    "editable": false,
    "slideshow": {
     "slide_type": ""
    },
    "tags": [
     "raises-exception"
    ]
   },
   "outputs": [],
   "source": [
    "INSERT INTO Buchung (GastID, HName, Anreise, AnzPers, AnzDZ, AnzEZ) VALUES\n",
    "    (14, 'Alpenblick Lodge', '2024-05-01', 3, 0, 3)"
   ]
  },
  {
   "cell_type": "markdown",
   "id": "832ebb87",
   "metadata": {
    "deletable": false,
    "editable": false,
    "slideshow": {
     "slide_type": ""
    },
    "tags": []
   },
   "source": [
    "## Aufgabe 2\n",
    "Formulieren Sie PostgreSQL kompatible Trigger für folgende Bedingungen:"
   ]
  },
  {
   "cell_type": "markdown",
   "id": "d5a9124f",
   "metadata": {
    "deletable": false,
    "editable": false
   },
   "source": [
    "### Teil a\n",
    "Nachdem Gäste abgereist sind, wird ihre Buchung gelöscht. Formulieren Sie einen Trigger, der dafür sorgt, dass auch der entsprechende Gasteintrag gelöscht wird, wenn dieser keine weiteren Buchungen hat."
   ]
  },
  {
   "cell_type": "code",
   "execution_count": null,
   "id": "8d3cc56c",
   "metadata": {
    "deletable": false,
    "tags": []
   },
   "outputs": [],
   "source": [
    "CREATE FUNCTION gast_loeschen()\n",
    "    RETURNS trigger AS\n",
    "$func$\n",
    "BEGIN\n",
    "    /* TODO\n",
    "     * Gast löschen, falls keine weiteren Buchungen\n",
    "     * vorhanden sind\n",
    "     */\n",
    "    RETURN NEW;\n",
    "END\n",
    "$func$ LANGUAGE plpgsql;"
   ]
  },
  {
   "cell_type": "code",
   "execution_count": null,
   "id": "549d694a",
   "metadata": {
    "deletable": false,
    "editable": false
   },
   "outputs": [],
   "source": [
    "CREATE TRIGGER gast_loeschen\n",
    "AFTER DELETE ON buchung\n",
    "FOR EACH ROW\n",
    "EXECUTE PROCEDURE gast_loeschen()"
   ]
  },
  {
   "cell_type": "markdown",
   "id": "d8a24608",
   "metadata": {
    "deletable": false,
    "editable": false,
    "slideshow": {
     "slide_type": ""
    },
    "tags": []
   },
   "source": [
    "Die nachfolgenden Statements dienen der Prüfung des Triggers."
   ]
  },
  {
   "cell_type": "code",
   "execution_count": null,
   "id": "ce4211d5",
   "metadata": {
    "deletable": false,
    "editable": false
   },
   "outputs": [],
   "source": [
    "-- Gast 7 ist vorhanden\n",
    "SELECT * FROM Gast WHERE GastID = 7"
   ]
  },
  {
   "cell_type": "code",
   "execution_count": null,
   "id": "24d2130b",
   "metadata": {
    "deletable": false,
    "editable": false
   },
   "outputs": [],
   "source": [
    "-- Alle Buchungen von Gast 7 werden gelöscht\n",
    "DELETE FROM Buchung WHERE GastID = 7"
   ]
  },
  {
   "cell_type": "code",
   "execution_count": null,
   "id": "239f2219",
   "metadata": {
    "deletable": false,
    "editable": false
   },
   "outputs": [],
   "source": [
    "-- Gast 7 sollte vom Trigger gelöscht sein\n",
    "SELECT * FROM Gast WHERE GastID = 7"
   ]
  },
  {
   "cell_type": "markdown",
   "id": "c17979fb",
   "metadata": {
    "deletable": false,
    "editable": false
   },
   "source": [
    "### Teil b\n",
    "Umbuchungen des Hotels werden nur akzeptiert, wenn der Grund dafür eine geringere Entfernung zum Strand ist."
   ]
  },
  {
   "cell_type": "code",
   "execution_count": null,
   "id": "0d1ea2d6",
   "metadata": {
    "deletable": false,
    "tags": []
   },
   "outputs": [],
   "source": [
    "CREATE FUNCTION umbuchung_pruefen()\n",
    "    RETURNS trigger AS\n",
    "$func$\n",
    "BEGIN\n",
    "    /* TODO\n",
    "     * Änderung ablehnen, falls sich Nähe zum\n",
    "     * Strand nicht verringert\n",
    "     */\n",
    "    RETURN NEW;\n",
    "END\n",
    "$func$ LANGUAGE plpgsql;"
   ]
  },
  {
   "cell_type": "code",
   "execution_count": null,
   "id": "e7404188",
   "metadata": {
    "deletable": false,
    "editable": false
   },
   "outputs": [],
   "source": [
    "CREATE TRIGGER umbuchung_pruefen\n",
    "BEFORE UPDATE ON buchung\n",
    "FOR EACH ROW\n",
    "EXECUTE PROCEDURE umbuchung_pruefen()"
   ]
  },
  {
   "cell_type": "markdown",
   "id": "ebe20824",
   "metadata": {
    "deletable": false,
    "editable": false,
    "slideshow": {
     "slide_type": ""
    },
    "tags": []
   },
   "source": [
    "Die nachfolgenden Statements dienen der Prüfung des Triggers."
   ]
  },
  {
   "cell_type": "code",
   "execution_count": null,
   "id": "e9b8ffa5",
   "metadata": {
    "deletable": false,
    "editable": false
   },
   "outputs": [],
   "source": [
    "-- Gast 4: Strandperle Hotel (5km) -> Seeblick Hotel (2km)\n",
    "UPDATE Buchung\n",
    "SET HName = 'Seeblick Hotel'\n",
    "WHERE GastID = 4 AND HName = 'Strandperle Hotel'"
   ]
  },
  {
   "cell_type": "code",
   "execution_count": null,
   "id": "b156561f",
   "metadata": {
    "deletable": false,
    "editable": false,
    "tags": [
     "raises-exception"
    ]
   },
   "outputs": [],
   "source": [
    "-- Gast 6: Strandperle Hotel (5km) -> Panorama Hotel (8km)\n",
    "UPDATE Buchung\n",
    "SET HName = 'Panorama Hotel'\n",
    "WHERE GastID = 6 AND HName = 'Strandperle Hotel'"
   ]
  },
  {
   "cell_type": "markdown",
   "id": "20ec9dd2",
   "metadata": {
    "deletable": false,
    "editable": false
   },
   "source": [
    "## Aufgabe 3\n",
    "Es sind verschiedene Sichten auf die Hotel-Datenbank für das Management (Sicht `V1`) bzw. das Personal des *Strandperle Hotel* (Sicht `V2`) definiert:"
   ]
  },
  {
   "cell_type": "code",
   "execution_count": null,
   "id": "3776e322",
   "metadata": {
    "deletable": false,
    "editable": false
   },
   "outputs": [],
   "source": [
    "CREATE OR REPLACE VIEW V1 (Betrieb, Kapazität) AS (\n",
    "    SELECT HName, DZ * 2 + EZ\n",
    "    FROM Hotel\n",
    ")"
   ]
  },
  {
   "cell_type": "code",
   "execution_count": null,
   "id": "86779fc3",
   "metadata": {
    "deletable": false,
    "editable": false
   },
   "outputs": [],
   "source": [
    "SELECT * FROM V1"
   ]
  },
  {
   "cell_type": "code",
   "execution_count": null,
   "id": "3150d11a",
   "metadata": {
    "deletable": false,
    "editable": false
   },
   "outputs": [],
   "source": [
    "CREATE OR REPLACE VIEW V2 AS (\n",
    "    SELECT *\n",
    "    FROM Buchung\n",
    "    WHERE HName = 'Strandperle Hotel'\n",
    ")"
   ]
  },
  {
   "cell_type": "code",
   "execution_count": null,
   "id": "7598cdc8",
   "metadata": {
    "deletable": false,
    "editable": false
   },
   "outputs": [],
   "source": [
    "SELECT * FROM V2"
   ]
  },
  {
   "cell_type": "markdown",
   "id": "877cd326",
   "metadata": {
    "deletable": false,
    "editable": false
   },
   "source": [
    "In der täglichen Arbeit ergeben sich die nachfolgenden Änderungen. Diskutieren Sie die Probleme und Konsequenzen der SQL-Anweisungen anhand der Kriterien für Änderungen auf Sichten und beurteilen Sie deren Zulässigkeit."
   ]
  },
  {
   "cell_type": "markdown",
   "id": "825e3fb4",
   "metadata": {
    "deletable": false,
    "editable": false
   },
   "source": [
    "Nach einem Umbau hat sich die Kapazität des *Seeblick Hotel* um 10 (Betten) erhöht."
   ]
  },
  {
   "cell_type": "code",
   "execution_count": null,
   "id": "dc357296",
   "metadata": {
    "deletable": false,
    "editable": false,
    "tags": [
     "raises-exception"
    ]
   },
   "outputs": [],
   "source": [
    "UPDATE V1\n",
    "SET Kapazität = Kapazität + 10\n",
    "WHERE Betrieb = 'Seeblick Hotel'"
   ]
  },
  {
   "cell_type": "markdown",
   "id": "a0ab6968",
   "metadata": {
    "deletable": false,
    "editable": false
   },
   "source": [
    "Die Buchung des Gastes $3$ im *Strandperle Hotel* wird storniert."
   ]
  },
  {
   "cell_type": "code",
   "execution_count": null,
   "id": "c1ff3e23",
   "metadata": {
    "deletable": false,
    "editable": false
   },
   "outputs": [],
   "source": [
    "DELETE FROM V2\n",
    "WHERE GastID = 3"
   ]
  },
  {
   "cell_type": "markdown",
   "id": "60294c2a",
   "metadata": {
    "deletable": false,
    "editable": false
   },
   "source": [
    "Der Gast $6$ soll vom *Strandperle Hotel* ins *Küstenparadies Resort* umgebucht werden."
   ]
  },
  {
   "cell_type": "code",
   "execution_count": null,
   "id": "d412636c",
   "metadata": {
    "deletable": false,
    "editable": false
   },
   "outputs": [],
   "source": [
    "UPDATE V2\n",
    "SET HName = 'Küstenparadies Resort'\n",
    "WHERE GastID = 6"
   ]
  },
  {
   "cell_type": "markdown",
   "id": "65107ac2",
   "metadata": {
    "deletable": false,
    "editable": false
   },
   "source": [
    "## Aufgabe 4\n",
    "Ein Auslieferungslager wird durch eine Datenbank mit folgendem Schema unterstützt:"
   ]
  },
  {
   "cell_type": "code",
   "execution_count": null,
   "id": "5458574c",
   "metadata": {
    "deletable": false,
    "editable": false
   },
   "outputs": [],
   "source": [
    "%SCHEMA ONLY lager"
   ]
  },
  {
   "cell_type": "markdown",
   "id": "9d5543fe",
   "metadata": {
    "deletable": false,
    "editable": false
   },
   "source": [
    "Das Auslieferungslager liefert Teile aus und bestellt vom Hersteller nach. Die nachfolgenden Änderungen werden auf den Relationen ausgeführt:"
   ]
  },
  {
   "cell_type": "code",
   "execution_count": null,
   "id": "3d2b4d52",
   "metadata": {
    "deletable": false,
    "editable": false
   },
   "outputs": [],
   "source": [
    "-- 1\n",
    "\n",
    "INSERT INTO Auslieferung VALUES (739, 4713, 5, 225.00);\n",
    "\n",
    "-- 2\n",
    "\n",
    "UPDATE Lager SET Vorrat = Vorrat - 5 WHERE TeilNr = 4713;\n",
    "\n",
    "-- 3\n",
    "\n",
    "INSERT INTO Nachbestellung VALUES (4713, 5, 'Siemens');\n",
    "\n",
    "-- 4"
   ]
  },
  {
   "cell_type": "markdown",
   "id": "3f6df490",
   "metadata": {
    "deletable": false,
    "editable": false
   },
   "source": [
    "### Teil a\n",
    "Bestimmen Sie für die Änderungen Transaktionen im Sinne des ACID-Prinzips. Wo muss ein `COMMIT` zur Kennzeichnung des Endes einer Transaktion in die Befehlsfolg eingefügt werden? **Begründen** Sie kurz Ihre Entscheidung"
   ]
  },
  {
   "cell_type": "markdown",
   "id": "2141d8c7",
   "metadata": {
    "deletable": false,
    "editable": false
   },
   "source": [
    "### Teil b\n",
    "Welche Konsistenzprobleme können bei den Änderungen in a) auftreten und wie können diese vermieden werden?"
   ]
  }
 ],
 "metadata": {
  "kernelspec": {
   "display_name": "DuckDB",
   "language": "",
   "name": "duckdb_kernel"
  },
  "language_info": {
   "file_extension": ".sql",
   "mimetype": "application/sql",
   "name": "duckdb"
  }
 },
 "nbformat": 4,
 "nbformat_minor": 5
}
