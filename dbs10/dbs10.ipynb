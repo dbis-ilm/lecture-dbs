{
 "cells": [
  {
   "cell_type": "markdown",
   "id": "91b1cbcd-39c7-4610-8ee7-f187335bafcd",
   "metadata": {
    "deletable": false,
    "editable": false
   },
   "source": [
    "# Sichten und Zugriffskontrolle"
   ]
  },
  {
   "cell_type": "code",
   "execution_count": null,
   "id": "9f94d548-bb00-4992-8d1c-c7444bbe50ae",
   "metadata": {
    "deletable": false,
    "editable": true,
    "slideshow": {
     "slide_type": ""
    },
    "tags": []
   },
   "outputs": [],
   "source": [
    "%CREATE pg://localhost OF tables.sql"
   ]
  },
  {
   "cell_type": "code",
   "execution_count": null,
   "id": "ef063abe-7cdc-45fe-9877-2b39edf0155a",
   "metadata": {
    "deletable": false
   },
   "outputs": [],
   "source": [
    "--%CREATE :memory: OF tables.sql\n",
    "-- DuckDB unterstützt keine Updates auf Views!"
   ]
  },
  {
   "cell_type": "code",
   "execution_count": null,
   "id": "2daf1f1c-c6aa-48ed-b590-9e423cb4d62e",
   "metadata": {
    "deletable": false
   },
   "outputs": [],
   "source": [
    "%SCHEMA"
   ]
  },
  {
   "cell_type": "markdown",
   "id": "b1dc7b19-bc9f-4051-bbc3-076f55b2fca3",
   "metadata": {
    "deletable": false,
    "editable": false,
    "slideshow": {
     "slide_type": ""
    },
    "tags": []
   },
   "source": [
    "## 10-8"
   ]
  },
  {
   "cell_type": "code",
   "execution_count": null,
   "id": "8f6e3c0e-9796-44e4-83f4-06720f3a0445",
   "metadata": {
    "deletable": false,
    "editable": true,
    "slideshow": {
     "slide_type": ""
    },
    "tags": []
   },
   "outputs": [],
   "source": [
    "SELECT * FROM Weine NATURAL JOIN Erzeuger"
   ]
  },
  {
   "cell_type": "code",
   "execution_count": null,
   "id": "98eb81a0-8b8d-4e00-b268-42177c0f7f2d",
   "metadata": {
    "deletable": false,
    "editable": true,
    "slideshow": {
     "slide_type": ""
    },
    "tags": []
   },
   "outputs": [],
   "source": [
    "CREATE VIEW Rotweine AS (\n",
    "    SELECT WeinID, Name, Jahrgang, Weingut\n",
    "    FROM Weine\n",
    "    WHERE Farbe = 'Rot'\n",
    ")"
   ]
  },
  {
   "cell_type": "code",
   "execution_count": null,
   "id": "dcd783b8-8b59-44ec-80cc-e645b9357fd2",
   "metadata": {
    "deletable": false,
    "editable": true,
    "slideshow": {
     "slide_type": ""
    },
    "tags": []
   },
   "outputs": [],
   "source": [
    "SELECT * FROM Rotweine"
   ]
  },
  {
   "cell_type": "markdown",
   "id": "746f9f6e-3e7f-4247-baac-9a92e63f628f",
   "metadata": {
    "deletable": false,
    "editable": false,
    "slideshow": {
     "slide_type": ""
    },
    "tags": []
   },
   "source": [
    "Unterschied zur CTE:"
   ]
  },
  {
   "cell_type": "code",
   "execution_count": null,
   "id": "a967fc4e-39ec-4ffb-8a5a-4144c6e3eb09",
   "metadata": {
    "deletable": false,
    "editable": true,
    "slideshow": {
     "slide_type": ""
    },
    "tags": []
   },
   "outputs": [],
   "source": [
    "WITH Rotweine_temp AS (\n",
    "    SELECT WeinID, Name, Jahrgang, Weingut\n",
    "    FROM Weine\n",
    "    WHERE Farbe = 'Rot'\n",
    ")\n",
    "\n",
    "SELECT * FROM Rotweine_temp"
   ]
  },
  {
   "cell_type": "code",
   "execution_count": null,
   "id": "7281e09d-458b-4663-9cea-ddbe928b94b5",
   "metadata": {
    "deletable": false,
    "editable": true,
    "slideshow": {
     "slide_type": ""
    },
    "tags": [
     "raises-exception"
    ]
   },
   "outputs": [],
   "source": [
    "SELECT * FROM Rotweine_temp"
   ]
  },
  {
   "cell_type": "markdown",
   "id": "fe1efea8-8e22-429c-b2bd-c1be0e13c4b3",
   "metadata": {
    "deletable": false,
    "editable": false,
    "slideshow": {
     "slide_type": ""
    },
    "tags": []
   },
   "source": [
    "## 10-10"
   ]
  },
  {
   "cell_type": "code",
   "execution_count": null,
   "id": "be96c1a1-064f-45cc-a7fe-65ea6aa82cd6",
   "metadata": {
    "deletable": false,
    "editable": true,
    "slideshow": {
     "slide_type": ""
    },
    "tags": []
   },
   "outputs": [],
   "source": [
    "UPDATE Rotweine SET Jahrgang = 2025"
   ]
  },
  {
   "cell_type": "code",
   "execution_count": null,
   "id": "6e57e333-ba36-4da6-b70b-1d4a8c443c24",
   "metadata": {
    "deletable": false,
    "editable": true,
    "slideshow": {
     "slide_type": ""
    },
    "tags": []
   },
   "outputs": [],
   "source": [
    "SELECT * FROM Rotweine"
   ]
  },
  {
   "cell_type": "code",
   "execution_count": null,
   "id": "8dede505-86b0-45f8-bfbd-3c39e7dc67a3",
   "metadata": {
    "deletable": false,
    "editable": true,
    "slideshow": {
     "slide_type": ""
    },
    "tags": []
   },
   "outputs": [],
   "source": [
    "SELECT * FROM Weine"
   ]
  },
  {
   "cell_type": "markdown",
   "id": "e1d6104b-baae-4876-b10c-cc193cb6419c",
   "metadata": {
    "deletable": false,
    "editable": false
   },
   "source": [
    "## 10-12"
   ]
  },
  {
   "cell_type": "code",
   "execution_count": null,
   "id": "8b38bd94-37ab-4688-b798-d9c33b1b9d8e",
   "metadata": {
    "deletable": false
   },
   "outputs": [],
   "source": [
    "INSERT INTO Rotweine VALUES (42000, 'Neuer Wein', 2025, 'Müller')"
   ]
  },
  {
   "cell_type": "code",
   "execution_count": null,
   "id": "c37d4c04-f446-42d7-b575-57ffc936f0a7",
   "metadata": {
    "deletable": false
   },
   "outputs": [],
   "source": [
    "SELECT * FROM Rotweine"
   ]
  },
  {
   "cell_type": "code",
   "execution_count": null,
   "id": "299bbd88-b191-46bb-acc5-f85d3a409bc8",
   "metadata": {
    "deletable": false
   },
   "outputs": [],
   "source": [
    "SELECT * FROM Weine"
   ]
  },
  {
   "cell_type": "markdown",
   "id": "2963dd02-cc82-474f-a8ee-9c6a16d809aa",
   "metadata": {
    "deletable": false,
    "editable": false
   },
   "source": [
    "## 10-14ff"
   ]
  },
  {
   "cell_type": "markdown",
   "id": "49d00488-0a5b-4740-a9e9-cf97246b3ea3",
   "metadata": {
    "deletable": false,
    "editable": false
   },
   "source": [
    "ohne `WITH CHECK OPTION`"
   ]
  },
  {
   "cell_type": "code",
   "execution_count": null,
   "id": "554c12af-5b89-412d-8db8-534848e2dffd",
   "metadata": {
    "deletable": false
   },
   "outputs": [],
   "source": [
    "CREATE VIEW neue_weine AS (\n",
    "    SELECT *\n",
    "    FROM Weine\n",
    "    WHERE Jahrgang = 2025\n",
    ")"
   ]
  },
  {
   "cell_type": "code",
   "execution_count": null,
   "id": "64931a78-7450-437e-9e9d-fead8c3f50f0",
   "metadata": {
    "deletable": false
   },
   "outputs": [],
   "source": [
    "SELECT * FROM neue_weine"
   ]
  },
  {
   "cell_type": "code",
   "execution_count": null,
   "id": "92255e1a-5a20-4983-94b5-a678727f58e1",
   "metadata": {
    "deletable": false
   },
   "outputs": [],
   "source": [
    "UPDATE neue_weine SET Jahrgang = 2000 WHERE Name = 'Neuer Wein'"
   ]
  },
  {
   "cell_type": "code",
   "execution_count": null,
   "id": "a2eaa88b-3da0-48e4-9623-15d097db8573",
   "metadata": {
    "deletable": false,
    "editable": true,
    "slideshow": {
     "slide_type": ""
    },
    "tags": []
   },
   "outputs": [],
   "source": [
    "SELECT * FROM neue_weine"
   ]
  },
  {
   "cell_type": "markdown",
   "id": "12e9eeda-9b1e-4c4d-a214-2e2dd4a370f2",
   "metadata": {
    "deletable": false,
    "editable": false
   },
   "source": [
    "mit `WITH CHECK OPTION`"
   ]
  },
  {
   "cell_type": "code",
   "execution_count": null,
   "id": "c25d0d6c-f5a2-46f0-8bd8-a6a9f88711b1",
   "metadata": {
    "deletable": false
   },
   "outputs": [],
   "source": [
    "CREATE OR REPLACE VIEW neue_weine AS (\n",
    "    SELECT *\n",
    "    FROM Weine\n",
    "    WHERE Jahrgang = 2025\n",
    ")\n",
    "WITH CHECK OPTION"
   ]
  },
  {
   "cell_type": "code",
   "execution_count": null,
   "id": "e77388ba-76df-4d56-a5f0-01a45cfdaf05",
   "metadata": {
    "deletable": false
   },
   "outputs": [],
   "source": [
    "SELECT * FROM neue_weine"
   ]
  },
  {
   "cell_type": "code",
   "execution_count": null,
   "id": "74d8d44b-947d-47b3-a96f-0ca4ee966c3a",
   "metadata": {
    "deletable": false,
    "editable": true,
    "slideshow": {
     "slide_type": ""
    },
    "tags": [
     "raises-exception"
    ]
   },
   "outputs": [],
   "source": [
    "UPDATE neue_weine SET Jahrgang = 2000 WHERE Name = 'Zinfandel'"
   ]
  },
  {
   "cell_type": "markdown",
   "id": "6138db9d-2e27-44ed-bc7e-aefecfb8f033",
   "metadata": {
    "deletable": false,
    "editable": false
   },
   "source": [
    "## 10-24"
   ]
  },
  {
   "cell_type": "code",
   "execution_count": null,
   "id": "01f5f328-5c39-4156-9e7a-5ab946a74200",
   "metadata": {
    "deletable": false
   },
   "outputs": [],
   "source": [
    "CREATE VIEW v_weinerzeuger AS (\n",
    "    SELECT *\n",
    "    FROM Weine\n",
    "    NATURAL JOIN Erzeuger\n",
    ")"
   ]
  },
  {
   "cell_type": "code",
   "execution_count": null,
   "id": "f9974616-ec91-44e2-a550-b69e4a03ce27",
   "metadata": {
    "deletable": false
   },
   "outputs": [],
   "source": [
    "SELECT * FROM v_weinerzeuger"
   ]
  },
  {
   "cell_type": "code",
   "execution_count": null,
   "id": "3303d2ed-5afc-4826-86ec-d8954d029057",
   "metadata": {
    "deletable": false
   },
   "outputs": [],
   "source": [
    "CREATE OR REPLACE FUNCTION weinerzeuger_insert_function()\n",
    "    RETURNS TRIGGER AS\n",
    "$func$\n",
    "BEGIN\n",
    "    INSERT INTO WEINE\n",
    "    VALUES (NEW.WeinID, NEW.Name, NEW.Farbe, NEW.Jahrgang, NEW.Weingut);\n",
    "    RETURN NULL;\n",
    "END\n",
    "$func$ LANGUAGE plpgsql;\n",
    "\n",
    "CREATE OR REPLACE TRIGGER V_WEINERZEUGER_Insert\n",
    "INSTEAD OF INSERT ON V_WEINERZEUGER\n",
    "FOR EACH ROW\n",
    "EXECUTE FUNCTION weinerzeuger_insert_function();"
   ]
  },
  {
   "cell_type": "code",
   "execution_count": null,
   "id": "b888b19d-1d2b-42c3-9b72-d1941ff84301",
   "metadata": {
    "deletable": false
   },
   "outputs": [],
   "source": [
    "-- Einfügen mit bekanntem Erzeuger\n",
    "INSERT INTO v_weinerzeuger\n",
    "VALUES ('Helena', 3333, 'Dornfelder', 'Rot', 2002, 'Barossa Valley', 'Südaustralien')"
   ]
  },
  {
   "cell_type": "code",
   "execution_count": null,
   "id": "d1463712-6cdc-4f6f-a140-48f6b1527c13",
   "metadata": {
    "deletable": false
   },
   "outputs": [],
   "source": [
    "SELECT * FROM v_weinerzeuger"
   ]
  },
  {
   "cell_type": "code",
   "execution_count": null,
   "id": "03b510a9-baaa-4946-bb77-2534fc888a38",
   "metadata": {
    "deletable": false,
    "editable": true,
    "slideshow": {
     "slide_type": ""
    },
    "tags": [
     "raises-exception"
    ]
   },
   "outputs": [],
   "source": [
    "-- Einfügen mit unbekanntem Erzeuger\n",
    "INSERT INTO v_weinerzeuger\n",
    "VALUES ('Unbekannter Erzeuger', 3333, 'Dornfelder', 'Rot', 2002, 'Barossa Valley', 'Südaustralien')"
   ]
  },
  {
   "cell_type": "markdown",
   "id": "36ec2694-7c96-4154-a8ed-0edd48fa1a7f",
   "metadata": {
    "deletable": false,
    "editable": false,
    "slideshow": {
     "slide_type": ""
    },
    "tags": []
   },
   "source": [
    "## 10-25"
   ]
  },
  {
   "cell_type": "code",
   "execution_count": null,
   "id": "5bac12e4-84be-4466-9466-124e62dd6091",
   "metadata": {
    "deletable": false
   },
   "outputs": [],
   "source": [
    "CREATE OR REPLACE VIEW aggr1 AS (\n",
    "    SELECT Farbe, AVG(Jahrgang) AS Jahrgang\n",
    "    FROM Weine\n",
    "    WHERE Farbe IS NOT NULL\n",
    "    GROUP BY Farbe\n",
    "    HAVING AVG(Jahrgang) > 2010\n",
    ")"
   ]
  },
  {
   "cell_type": "code",
   "execution_count": null,
   "id": "b7d8b63c-f5f7-4a3f-ac42-837884064e4d",
   "metadata": {
    "deletable": false
   },
   "outputs": [],
   "source": [
    "SELECT Farbe FROM aggr1 WHERE Jahrgang > 2015"
   ]
  },
  {
   "cell_type": "code",
   "execution_count": null,
   "id": "ad5367db-7bae-4eab-afe7-877dbbcd23ae",
   "metadata": {
    "deletable": false
   },
   "outputs": [],
   "source": [
    "CREATE OR REPLACE VIEW aggr2 AS (\n",
    "    SELECT Farbe, AVG(Jahrgang) AS Jahrgang\n",
    "    FROM Weine\n",
    "    WHERE Farbe IS NOT NULL\n",
    "    GROUP BY Farbe\n",
    ")"
   ]
  },
  {
   "cell_type": "code",
   "execution_count": null,
   "id": "1b04d3ea-a7ba-4150-9572-687f35d7c1ad",
   "metadata": {
    "deletable": false
   },
   "outputs": [],
   "source": [
    "SELECT MIN(Jahrgang) FROM aggr2"
   ]
  }
 ],
 "metadata": {
  "kernelspec": {
   "display_name": "DuckDB",
   "language": "",
   "name": "duckdb_kernel"
  },
  "language_info": {
   "file_extension": ".sql",
   "mimetype": "application/sql",
   "name": "duckdb"
  }
 },
 "nbformat": 4,
 "nbformat_minor": 5
}
