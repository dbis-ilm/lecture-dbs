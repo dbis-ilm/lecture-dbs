{
 "cells": [
  {
   "cell_type": "markdown",
   "id": "3cdd5670",
   "metadata": {
    "deletable": false,
    "editable": false,
    "slideshow": {
     "slide_type": ""
    },
    "tags": []
   },
   "source": [
    "# Übungsblatt 6"
   ]
  },
  {
   "cell_type": "markdown",
   "id": "59e14900",
   "metadata": {
    "deletable": false,
    "editable": false
   },
   "source": [
    "Laden Sie die Daten, bevor Sie mit der Arbeit beginnen."
   ]
  },
  {
   "cell_type": "code",
   "execution_count": null,
   "id": "39fcd49b",
   "metadata": {
    "deletable": false,
    "editable": false,
    "slideshow": {
     "slide_type": ""
    },
    "tags": []
   },
   "outputs": [],
   "source": [
    "%CREATE :memory: OF tables.sql WITH_TESTS tests.json\n",
    "%GUESS_PARSER"
   ]
  },
  {
   "cell_type": "markdown",
   "id": "59e38cb2",
   "metadata": {
    "deletable": false,
    "editable": false
   },
   "source": [
    "## Aufgabe 1\n",
    "Formulieren Sie die folgenden Anfragen jeweils einmal als RA- und einmal als SQL-Ausdruck."
   ]
  },
  {
   "cell_type": "code",
   "execution_count": null,
   "id": "785b895b",
   "metadata": {
    "deletable": false,
    "editable": false
   },
   "outputs": [],
   "source": [
    "%SCHEMA TD ONLY Books"
   ]
  },
  {
   "cell_type": "markdown",
   "id": "2dba7bc9",
   "metadata": {
    "deletable": false,
    "editable": false
   },
   "source": [
    "Nennen Sie Jahr und Titel aller Bücher."
   ]
  },
  {
   "cell_type": "code",
   "execution_count": null,
   "id": "c6501dd2-694e-4908-aa0b-b155586496a3",
   "metadata": {
    "deletable": false,
    "tags": []
   },
   "outputs": [],
   "source": [
    "%TEST aufgabe1-1\n",
    "Books"
   ]
  },
  {
   "cell_type": "code",
   "execution_count": null,
   "id": "43d1d951-517a-46a7-80f3-6429a420fcf7",
   "metadata": {
    "deletable": false,
    "tags": []
   },
   "outputs": [],
   "source": [
    "%TEST aufgabe1-1\n",
    "SELECT 1"
   ]
  },
  {
   "cell_type": "markdown",
   "id": "081791d0-4ae1-4522-b5cc-3d997d694f4a",
   "metadata": {
    "deletable": false,
    "editable": false
   },
   "source": [
    "Listen Sie die Informationen aller Studierender auf, die *CS* studieren. (Attribut `Major`)"
   ]
  },
  {
   "cell_type": "code",
   "execution_count": null,
   "id": "d61c9df3-e08f-47a8-9a36-698a92747cb2",
   "metadata": {
    "deletable": false,
    "tags": []
   },
   "outputs": [],
   "source": [
    "%TEST aufgabe1-2\n",
    "Student"
   ]
  },
  {
   "cell_type": "code",
   "execution_count": null,
   "id": "e926dbd8-53e6-49f4-a02d-72a9b0260a41",
   "metadata": {
    "deletable": false,
    "tags": []
   },
   "outputs": [],
   "source": [
    "%TEST aufgabe1-2\n",
    "SELECT 1"
   ]
  },
  {
   "cell_type": "markdown",
   "id": "3b18f011-5bf0-44f8-9266-f7add9361def",
   "metadata": {
    "deletable": false,
    "editable": false
   },
   "source": [
    "Listen Sie alle Studierenden mit den Büchern, die sie leihen können, auf. (ungeachtet, ob sie verliehen sind oder nicht)"
   ]
  },
  {
   "cell_type": "code",
   "execution_count": null,
   "id": "6d6e0897-62ef-4122-bc8a-e55d82692164",
   "metadata": {
    "deletable": false,
    "tags": []
   },
   "outputs": [],
   "source": [
    "%TEST aufgabe1-3\n",
    "Books"
   ]
  },
  {
   "cell_type": "code",
   "execution_count": null,
   "id": "4f5543f7-efa4-441e-a63a-3aae7389569d",
   "metadata": {
    "deletable": false,
    "tags": []
   },
   "outputs": [],
   "source": [
    "%TEST aufgabe1-3\n",
    "SELECT 1"
   ]
  },
  {
   "cell_type": "markdown",
   "id": "8e9a2e4c-2bba-4ab7-99ba-dc7af0ab53d8",
   "metadata": {
    "deletable": false,
    "editable": false
   },
   "source": [
    "Nennen Sie alle Bücher, die von *Random House* nach 1950 veröffentlicht wurden."
   ]
  },
  {
   "cell_type": "code",
   "execution_count": null,
   "id": "2eac5d81-2d97-443d-ad75-0c83a20facdd",
   "metadata": {
    "deletable": false,
    "tags": []
   },
   "outputs": [],
   "source": [
    "%TEST aufgabe1-4\n",
    "Books"
   ]
  },
  {
   "cell_type": "code",
   "execution_count": null,
   "id": "585faec5-1f72-4d08-971c-de43469cf891",
   "metadata": {
    "deletable": false,
    "tags": []
   },
   "outputs": [],
   "source": [
    "%TEST aufgabe1-4\n",
    "SELECT 1"
   ]
  },
  {
   "cell_type": "markdown",
   "id": "a42adc13-c9a5-482a-8291-7ebbee52d0bf",
   "metadata": {
    "deletable": false,
    "editable": false
   },
   "source": [
    "Nennen Sie alle Namen der Autoren, die in *New York City, US* wohnen."
   ]
  },
  {
   "cell_type": "code",
   "execution_count": null,
   "id": "aa0f27e6-e3bb-4285-810f-316d8c16a375",
   "metadata": {
    "deletable": false,
    "tags": []
   },
   "outputs": [],
   "source": [
    "%TEST aufgabe1-5\n",
    "Authors"
   ]
  },
  {
   "cell_type": "code",
   "execution_count": null,
   "id": "f845cf45-8012-4bfd-a248-5e170eb73e2d",
   "metadata": {
    "deletable": false,
    "tags": []
   },
   "outputs": [],
   "source": [
    "%TEST aufgabe1-5\n",
    "SELECT 1"
   ]
  },
  {
   "cell_type": "markdown",
   "id": "3c8cc8c2-1d60-4f5e-9c8e-10022e98916f",
   "metadata": {
    "deletable": false,
    "editable": false
   },
   "source": [
    "Nennen Sie die Namen der Studierenden, die älter als 30 sind und nicht *CS* studieren."
   ]
  },
  {
   "cell_type": "code",
   "execution_count": null,
   "id": "e8dfbc37-310e-4583-a0c1-93de7b3251c3",
   "metadata": {
    "deletable": false,
    "tags": []
   },
   "outputs": [],
   "source": [
    "%TEST aufgabe1-6\n",
    "Student"
   ]
  },
  {
   "cell_type": "code",
   "execution_count": null,
   "id": "cc5a42ec-12bb-4eee-b8e1-83f8d2477523",
   "metadata": {
    "deletable": false,
    "tags": []
   },
   "outputs": [],
   "source": [
    "%TEST aufgabe1-6\n",
    "SELECT 1"
   ]
  },
  {
   "cell_type": "markdown",
   "id": "31fa083c-a741-4991-bb9d-11155248cde4",
   "metadata": {
    "deletable": false,
    "editable": false
   },
   "source": [
    "Geben Sie die Namen der Autoren (Attribut `AName`) als `Name` aus."
   ]
  },
  {
   "cell_type": "code",
   "execution_count": null,
   "id": "c867a467-7890-4026-9a95-99ef699331ed",
   "metadata": {
    "deletable": false,
    "tags": []
   },
   "outputs": [],
   "source": [
    "%TEST aufgabe1-7\n",
    "Authors"
   ]
  },
  {
   "cell_type": "code",
   "execution_count": null,
   "id": "fddcaa94-7f1c-46f5-8a10-62656c146065",
   "metadata": {
    "deletable": false,
    "tags": []
   },
   "outputs": [],
   "source": [
    "%TEST aufgabe1-7\n",
    "SELECT 1"
   ]
  },
  {
   "cell_type": "markdown",
   "id": "aa6bc6ea-ace8-4849-8a1c-9092eed9fb4e",
   "metadata": {
    "deletable": false,
    "editable": false
   },
   "source": [
    "Nennen Sie die Namen aller Studierenden, die ein Buch geliehen haben und *CS* studieren."
   ]
  },
  {
   "cell_type": "code",
   "execution_count": null,
   "id": "074e7fec-584f-469e-92a6-f60365b5dae0",
   "metadata": {
    "deletable": false,
    "tags": []
   },
   "outputs": [],
   "source": [
    "%TEST aufgabe1-8\n",
    "Student"
   ]
  },
  {
   "cell_type": "code",
   "execution_count": null,
   "id": "fdf71966-fce4-4521-9c39-671615ad1660",
   "metadata": {
    "deletable": false,
    "tags": []
   },
   "outputs": [],
   "source": [
    "%TEST aufgabe1-8\n",
    "SELECT 1"
   ]
  },
  {
   "cell_type": "markdown",
   "id": "71185152-2b05-4b8e-a101-4533f76aa281",
   "metadata": {
    "deletable": false,
    "editable": false
   },
   "source": [
    "Nennen Sie die Titel der Bücher, die von *Truman Capote* geschrieben wurden."
   ]
  },
  {
   "cell_type": "code",
   "execution_count": null,
   "id": "bcd29025-893d-434b-9a15-69490bb19682",
   "metadata": {
    "deletable": false,
    "tags": []
   },
   "outputs": [],
   "source": [
    "%TEST aufgabe1-9\n",
    "Books"
   ]
  },
  {
   "cell_type": "code",
   "execution_count": null,
   "id": "ccc638f6-66ce-4830-8e1e-48d670516447",
   "metadata": {
    "deletable": false,
    "tags": []
   },
   "outputs": [],
   "source": [
    "%TEST aufgabe1-9\n",
    "SELECT 1"
   ]
  },
  {
   "cell_type": "markdown",
   "id": "f54f487c-acda-45a3-b16f-a89da0581571",
   "metadata": {
    "deletable": false,
    "editable": false
   },
   "source": [
    "Nennen Sie die Titel der Bücher, die von *Truman Capote* geschrieben wurden, aber nicht das Keywort *friendship* haben."
   ]
  },
  {
   "cell_type": "code",
   "execution_count": null,
   "id": "4fdc55dd-e6be-40b0-a1b8-219810989297",
   "metadata": {
    "deletable": false,
    "tags": []
   },
   "outputs": [],
   "source": [
    "%TEST aufgabe1-10\n",
    "Books"
   ]
  },
  {
   "cell_type": "code",
   "execution_count": null,
   "id": "66854fd1-f9e5-46ba-b233-b04b5a54ed7d",
   "metadata": {
    "deletable": false,
    "tags": []
   },
   "outputs": [],
   "source": [
    "%TEST aufgabe1-10\n",
    "SELECT 1"
   ]
  },
  {
   "cell_type": "markdown",
   "id": "428f5a23-8279-4b8e-9d44-305393d4ec50",
   "metadata": {
    "deletable": false,
    "editable": false
   },
   "source": [
    "Nennen Sie den Namen der/des jüngsten Studierenden."
   ]
  },
  {
   "cell_type": "code",
   "execution_count": null,
   "id": "6c9929f0-88bf-494b-99bf-4aa46615a07c",
   "metadata": {
    "deletable": false,
    "tags": []
   },
   "outputs": [],
   "source": [
    "%TEST aufgabe1-11\n",
    "Student"
   ]
  },
  {
   "cell_type": "code",
   "execution_count": null,
   "id": "a8d8920d-a412-4ad5-b692-a17d58288c6f",
   "metadata": {
    "deletable": false,
    "tags": []
   },
   "outputs": [],
   "source": [
    "%TEST aufgabe1-11\n",
    "SELECT 1"
   ]
  },
  {
   "cell_type": "markdown",
   "id": "13efc7ad-5208-48c3-a07d-e2ebd60b508a",
   "metadata": {
    "deletable": false,
    "editable": false
   },
   "source": [
    "Nennen Sie den Titel des ältesten Buchs."
   ]
  },
  {
   "cell_type": "code",
   "execution_count": null,
   "id": "0b56a2b8-61f9-4729-86a5-5c311ec51ade",
   "metadata": {
    "deletable": false,
    "tags": []
   },
   "outputs": [],
   "source": [
    "%TEST aufgabe1-12\n",
    "Books"
   ]
  },
  {
   "cell_type": "code",
   "execution_count": null,
   "id": "2ee3c7a8-8631-4752-9e9d-6cef7e833d49",
   "metadata": {
    "deletable": false,
    "tags": []
   },
   "outputs": [],
   "source": [
    "%TEST aufgabe1-12\n",
    "SELECT 1"
   ]
  },
  {
   "cell_type": "markdown",
   "id": "611029e9-bbbb-4980-8400-a6b3e99cbbe9",
   "metadata": {
    "deletable": false,
    "editable": false
   },
   "source": [
    "Listen Sie alle Bücher mit ihren Keywörtern auf."
   ]
  },
  {
   "cell_type": "code",
   "execution_count": null,
   "id": "e2140b46-43c6-4d88-8306-35a0ad254544",
   "metadata": {
    "deletable": false,
    "tags": []
   },
   "outputs": [],
   "source": [
    "%TEST aufgabe1-13\n",
    "Books"
   ]
  },
  {
   "cell_type": "code",
   "execution_count": null,
   "id": "1f1341bc-dddf-4516-832e-7c7334ececb1",
   "metadata": {
    "deletable": false,
    "tags": []
   },
   "outputs": [],
   "source": [
    "%TEST aufgabe1-13\n",
    "SELECT 1"
   ]
  },
  {
   "cell_type": "markdown",
   "id": "28f5c4cb-9527-4aa9-8fb0-1fc34b732d03",
   "metadata": {
    "deletable": false,
    "editable": false
   },
   "source": [
    "Listen Sie alle Studierenden mit den von ihr/ihm geliehenen Büchern auf."
   ]
  },
  {
   "cell_type": "code",
   "execution_count": null,
   "id": "1860cc2e-d783-4d13-b508-0a9c12c8313f",
   "metadata": {
    "deletable": false,
    "tags": []
   },
   "outputs": [],
   "source": [
    "%TEST aufgabe1-14\n",
    "Student"
   ]
  },
  {
   "cell_type": "code",
   "execution_count": null,
   "id": "c9a3e9cd-3e45-4f8b-b239-23b924a03b21",
   "metadata": {
    "deletable": false,
    "tags": []
   },
   "outputs": [],
   "source": [
    "%TEST aufgabe1-14\n",
    "SELECT 1"
   ]
  },
  {
   "cell_type": "markdown",
   "id": "5adffe7f-bbe0-4a5c-89fc-1062ff8b5302",
   "metadata": {
    "deletable": false,
    "editable": false
   },
   "source": [
    "Nennen Sie die Titel der Bücher, die von *Jane Austen* geschrieben wurden."
   ]
  },
  {
   "cell_type": "code",
   "execution_count": null,
   "id": "e6384ae2-7138-4e58-8f52-3f97a4ed645f",
   "metadata": {
    "deletable": false,
    "tags": []
   },
   "outputs": [],
   "source": [
    "%TEST aufgabe1-15\n",
    "Books"
   ]
  },
  {
   "cell_type": "code",
   "execution_count": null,
   "id": "e0bf6e0b-0065-43f1-9348-30392d427795",
   "metadata": {
    "deletable": false,
    "tags": []
   },
   "outputs": [],
   "source": [
    "%TEST aufgabe1-15\n",
    "SELECT 1"
   ]
  },
  {
   "cell_type": "markdown",
   "id": "6a952b0b-c442-4b1c-9e16-622e7d6951fb",
   "metadata": {
    "deletable": false,
    "editable": false
   },
   "source": [
    "Nennen Sie die Namen der Autoren von Büchern, die von *Peter Pan* ausgeliehen wurden."
   ]
  },
  {
   "cell_type": "code",
   "execution_count": null,
   "id": "37e40e8f-c318-4e48-8a7f-862b39afacba",
   "metadata": {
    "deletable": false,
    "tags": []
   },
   "outputs": [],
   "source": [
    "%TEST aufgabe1-16\n",
    "Books"
   ]
  },
  {
   "cell_type": "code",
   "execution_count": null,
   "id": "80e4937f-48c1-4cba-b615-e84ef7b3ba3a",
   "metadata": {
    "deletable": false,
    "tags": []
   },
   "outputs": [],
   "source": [
    "%TEST aufgabe1-16\n",
    "SELECT 1"
   ]
  },
  {
   "cell_type": "markdown",
   "id": "6c15043e-340a-4f7c-b57f-ec507a0e0f06",
   "metadata": {
    "deletable": false,
    "editable": false
   },
   "source": [
    "Welche Bücher (nennen Sie die Titel) haben die Keywörter *epic* und *fantasy*?"
   ]
  },
  {
   "cell_type": "code",
   "execution_count": null,
   "id": "d591343c-0828-4c23-ac4d-35fba02a48fb",
   "metadata": {
    "deletable": false,
    "tags": []
   },
   "outputs": [],
   "source": [
    "%TEST aufgabe1-17\n",
    "Books"
   ]
  },
  {
   "cell_type": "code",
   "execution_count": null,
   "id": "df9d769a-c9a2-4977-8a92-8312e8482ebb",
   "metadata": {
    "deletable": false,
    "tags": []
   },
   "outputs": [],
   "source": [
    "%TEST aufgabe1-17\n",
    "SELECT 1"
   ]
  },
  {
   "cell_type": "markdown",
   "id": "9a94a348-719f-461b-a65e-f102dc3a44c0",
   "metadata": {
    "deletable": false,
    "editable": false
   },
   "source": [
    "## Aufgabe 2\n",
    "Formulieren Sie Anfragen an die Datenbank des Handels mit den Operationen der minimalen Relationenalgebra für folgende Anliegen. Notieren Sie außerdem eine Lösung im Bereichskalkül.\n",
    "\n",
    "Achtung: **In dieser Implementierung des Bereichskalküls wird Groß- und Kleinschreibung nicht unterschieden!**"
   ]
  },
  {
   "cell_type": "code",
   "execution_count": null,
   "id": "9232191f-4c4f-437d-8c9b-10a6261a60d0",
   "metadata": {
    "deletable": false,
    "editable": false
   },
   "outputs": [],
   "source": [
    "%SCHEMA ONLY Einkauf"
   ]
  },
  {
   "cell_type": "markdown",
   "id": "2035bb3b-e727-4b5b-854c-9511a789c51b",
   "metadata": {
    "deletable": false,
    "editable": false
   },
   "source": [
    "Finden Sie alle Bons von Einkäufen, die vormittags getätigt wurden."
   ]
  },
  {
   "cell_type": "code",
   "execution_count": null,
   "id": "c11ca2b3",
   "metadata": {
    "deletable": false,
    "tags": []
   },
   "outputs": [],
   "source": [
    "%TEST aufgabe2-1\n",
    "Einkauf"
   ]
  },
  {
   "cell_type": "code",
   "execution_count": null,
   "id": "c3d50863",
   "metadata": {
    "deletable": false,
    "tags": []
   },
   "outputs": [],
   "source": [
    "%TEST aufgabe2-1\n",
    "{ * | Einkauf(BonId, _, _, _, _) }"
   ]
  },
  {
   "cell_type": "markdown",
   "id": "316a021a-c54c-4ebd-a84a-28e1811dcb44",
   "metadata": {
    "deletable": false,
    "editable": false
   },
   "source": [
    "Welche Artikel wurden nach 19 Uhr gekauft?"
   ]
  },
  {
   "cell_type": "code",
   "execution_count": null,
   "id": "3af2d511",
   "metadata": {
    "deletable": false,
    "tags": []
   },
   "outputs": [],
   "source": [
    "%TEST aufgabe2-2\n",
    "Einkauf"
   ]
  },
  {
   "cell_type": "code",
   "execution_count": null,
   "id": "ad52aefb",
   "metadata": {
    "deletable": false,
    "tags": []
   },
   "outputs": [],
   "source": [
    "%TEST aufgabe2-2\n",
    "{ * | Einkauf(BonId, _, _, _, _) }"
   ]
  },
  {
   "cell_type": "markdown",
   "id": "595ed904-8d33-4024-9a93-59cf295b4b71",
   "metadata": {
    "deletable": false,
    "editable": false
   },
   "source": [
    "Finden Sie die Namen der Kunden, die noch keine Einkäufe getätigt haben."
   ]
  },
  {
   "cell_type": "code",
   "execution_count": null,
   "id": "23a1e16b",
   "metadata": {
    "deletable": false,
    "tags": []
   },
   "outputs": [],
   "source": [
    "%TEST aufgabe2-3\n",
    "Einkauf"
   ]
  },
  {
   "cell_type": "code",
   "execution_count": null,
   "id": "02dcebf2",
   "metadata": {
    "deletable": false,
    "tags": []
   },
   "outputs": [],
   "source": [
    "%TEST aufgabe2-3\n",
    "{ * | Kunde(KdNr, Name) }"
   ]
  },
  {
   "cell_type": "markdown",
   "id": "72438b31-c71b-4759-84f0-c9abb3b938bb",
   "metadata": {
    "deletable": false,
    "editable": false
   },
   "source": [
    "Welche Supermärkte (Name) haben wenigstens zwei Artikel im Angebot?"
   ]
  },
  {
   "cell_type": "code",
   "execution_count": null,
   "id": "3e10ee22",
   "metadata": {
    "deletable": false,
    "tags": []
   },
   "outputs": [],
   "source": [
    "%TEST aufgabe2-4\n",
    "Angebot"
   ]
  },
  {
   "cell_type": "code",
   "execution_count": null,
   "id": "6bb48c41",
   "metadata": {
    "deletable": false,
    "tags": []
   },
   "outputs": [],
   "source": [
    "%TEST aufgabe2-4\n",
    "{ * | Supermarkt(SID, Name, _) }"
   ]
  },
  {
   "cell_type": "markdown",
   "id": "ba63de82-10bb-4f6c-9777-47f1d420d39a",
   "metadata": {
    "deletable": false,
    "editable": false
   },
   "source": [
    "## Aufgabe 3\n",
    "Finden Sie alle Bons in der Tabelle `Belege`, die die gleichen Artikel wie *Bon 1* enthalten."
   ]
  },
  {
   "cell_type": "markdown",
   "id": "9ae1030e-a7db-4fbe-bfcc-97a5df1db8b6",
   "metadata": {
    "deletable": false,
    "editable": false
   },
   "source": [
    "Formulieren Sie eine Anfrage mit den Operationen der erweiterten Relationenalgebra."
   ]
  },
  {
   "cell_type": "code",
   "execution_count": null,
   "id": "98d6f308-c5e9-4108-8c76-209db5708c62",
   "metadata": {
    "deletable": false,
    "editable": true,
    "slideshow": {
     "slide_type": ""
    },
    "tags": []
   },
   "outputs": [],
   "source": [
    "%TEST aufgabe3\n",
    "Belege"
   ]
  },
  {
   "cell_type": "markdown",
   "id": "f1dcce61-6489-4aac-9b4a-9dcdf288ee39",
   "metadata": {
    "deletable": false,
    "editable": false
   },
   "source": [
    "Finden Sie eine alternative Formulierung der Anfrage nur mit den Operationen der minimalen Algebra."
   ]
  },
  {
   "cell_type": "code",
   "execution_count": null,
   "id": "8174ceea-1a0d-47a3-8181-e8e51079ddf5",
   "metadata": {
    "deletable": false,
    "editable": true,
    "slideshow": {
     "slide_type": ""
    },
    "tags": []
   },
   "outputs": [],
   "source": [
    "%TEST aufgabe3\n",
    "Belege"
   ]
  },
  {
   "cell_type": "markdown",
   "id": "37a0d4af-a0dd-44a7-a7fe-a03cf6689e5d",
   "metadata": {
    "deletable": false,
    "editable": false
   },
   "source": [
    "Formulieren Sie eine entsprechende SQL-Anfrage."
   ]
  },
  {
   "cell_type": "code",
   "execution_count": null,
   "id": "3e3df5ac-2b4c-4002-a392-6ee204222d42",
   "metadata": {
    "deletable": false,
    "editable": true,
    "slideshow": {
     "slide_type": ""
    },
    "tags": []
   },
   "outputs": [],
   "source": [
    "%TEST aufgabe3\n",
    "SELECT 1"
   ]
  },
  {
   "cell_type": "markdown",
   "id": "8a16d29a-10a1-4ce6-ab28-a229855ba201",
   "metadata": {
    "deletable": false,
    "editable": false
   },
   "source": [
    "## Aufgabe 4\n",
    "Ein Kunde hat wenig Zeit und kauft gern günstig ein. Er braucht für das bevorstehende Wochenende unbedingt noch Orangen und Kartoffeln, aber er möchte möglichst nur einen Supermarkt aufsuchen und nur Waren aus dem Angebot kaufen.\n",
    "\n",
    "Gibt es einen solchen Supermarkt? Gesucht sind Name und Adresse."
   ]
  },
  {
   "cell_type": "code",
   "execution_count": null,
   "id": "f2f1cdf4",
   "metadata": {
    "deletable": false,
    "tags": []
   },
   "outputs": [],
   "source": [
    "%TEST aufgabe4\n",
    "Supermarkt"
   ]
  }
 ],
 "metadata": {
  "kernelspec": {
   "display_name": "DuckDB",
   "language": "",
   "name": "duckdb_kernel"
  },
  "language_info": {
   "file_extension": ".sql",
   "mimetype": "application/sql",
   "name": "duckdb"
  }
 },
 "nbformat": 4,
 "nbformat_minor": 5
}
