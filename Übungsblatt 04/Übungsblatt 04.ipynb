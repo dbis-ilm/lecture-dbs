{
 "cells": [
  {
   "cell_type": "markdown",
   "id": "28e7682c-f1e4-4d99-86b1-c31ebdbef88b",
   "metadata": {
    "deletable": false,
    "editable": false,
    "slideshow": {
     "slide_type": ""
    },
    "tags": []
   },
   "source": [
    "# Aufgabe 4"
   ]
  },
  {
   "cell_type": "code",
   "execution_count": null,
   "id": "a0cb1468-f454-4490-a2fe-4505b89c3a31",
   "metadata": {
    "deletable": false,
    "editable": false,
    "slideshow": {
     "slide_type": ""
    },
    "tags": []
   },
   "outputs": [],
   "source": [
    "%CREATE :memory:\n",
    "\n",
    "CREATE TABLE LEHRE (\n",
    "    Student   INTEGER,\n",
    "    Vorlesung VARCHAR,\n",
    "    Professor VARCHAR,\n",
    "    PRIMARY KEY (Student, Vorlesung, Professor)\n",
    ");\n",
    "\n",
    "INSERT INTO LEHRE VALUES\n",
    "    (49999, 'AuP', 'Schulz'),\n",
    "    (51234, 'AuP', 'Schulz'),\n",
    "    (51234, 'BS', 'Bauer'),\n",
    "    (56789, 'AuP', 'Vogt');\n",
    "\n",
    "SELECT * FROM LEHRE"
   ]
  },
  {
   "cell_type": "markdown",
   "id": "45742287-d209-4432-80b5-5d2e60c56ca6",
   "metadata": {
    "deletable": false,
    "editable": false
   },
   "source": [
    "## Teil a"
   ]
  },
  {
   "cell_type": "code",
   "execution_count": null,
   "id": "a7a4a13a-be6e-4b68-af6f-c553c7002c37",
   "metadata": {
    "deletable": false,
    "editable": false
   },
   "outputs": [],
   "source": [
    "CREATE TABLE LEHRE1a (\n",
    "    Student   INTEGER,\n",
    "    Professor VARCHAR,\n",
    "    PRIMARY KEY (Student, Professor)\n",
    ");\n",
    "\n",
    "INSERT INTO LEHRE1a SELECT DISTINCT Student, Professor FROM LEHRE;\n",
    "\n",
    "SELECT * FROM LEHRE1a"
   ]
  },
  {
   "cell_type": "code",
   "execution_count": null,
   "id": "1800a07a-4a14-4216-a2c0-aa07ab8ed8d8",
   "metadata": {
    "deletable": false,
    "editable": false
   },
   "outputs": [],
   "source": [
    "CREATE TABLE LEHRE2a (\n",
    "    Student   INTEGER,\n",
    "    Vorlesung VARCHAR,\n",
    "    PRIMARY KEY (Student, Vorlesung)\n",
    ");\n",
    "\n",
    "INSERT INTO LEHRE2a SELECT DISTINCT Student, Vorlesung FROM LEHRE;\n",
    "\n",
    "SELECT * FROM LEHRE2a"
   ]
  },
  {
   "cell_type": "code",
   "execution_count": null,
   "id": "e499550d-837a-4f7a-8565-0a31531b2736",
   "metadata": {
    "deletable": false,
    "editable": false
   },
   "outputs": [],
   "source": [
    "SELECT * FROM LEHRE1a NATURAL JOIN LEHRE2a"
   ]
  },
  {
   "cell_type": "markdown",
   "id": "96baf393-3d47-441c-bf01-1655030c3de2",
   "metadata": {
    "deletable": false,
    "editable": false
   },
   "source": [
    "## Teil b"
   ]
  },
  {
   "cell_type": "code",
   "execution_count": null,
   "id": "abc5a407-7a0c-48cf-9c30-15e941cd31e8",
   "metadata": {
    "deletable": false,
    "editable": false
   },
   "outputs": [],
   "source": [
    "CREATE TABLE LEHRE1b (\n",
    "    Vorlesung VARCHAR,\n",
    "    Professor VARCHAR,\n",
    "    PRIMARY KEY (Professor)\n",
    ");\n",
    "\n",
    "INSERT INTO LEHRE1b SELECT DISTINCT Vorlesung, Professor FROM LEHRE;\n",
    "\n",
    "SELECT * FROM LEHRE1b"
   ]
  },
  {
   "cell_type": "code",
   "execution_count": null,
   "id": "0220679a-b5f3-47b2-8fba-49faf9ca03f7",
   "metadata": {
    "deletable": false,
    "editable": false
   },
   "outputs": [],
   "source": [
    "CREATE TABLE LEHRE2b (\n",
    "    Vorlesung VARCHAR,\n",
    "    Student   INTEGER,\n",
    "    PRIMARY KEY (Vorlesung, Student)\n",
    ");\n",
    "\n",
    "INSERT INTO LEHRE2b SELECT DISTINCT Vorlesung, Student FROM LEHRE;\n",
    "\n",
    "SELECT * FROM LEHRE2b"
   ]
  },
  {
   "cell_type": "code",
   "execution_count": null,
   "id": "7847a11c-644c-4b00-a472-67cba5841a5b",
   "metadata": {
    "deletable": false,
    "editable": false
   },
   "outputs": [],
   "source": [
    "SELECT * FROM LEHRE1b NATURAL JOIN LEHRE2b"
   ]
  },
  {
   "cell_type": "markdown",
   "id": "973a9ca2-0db8-4576-b588-256340ebb2b6",
   "metadata": {
    "deletable": false,
    "editable": false
   },
   "source": [
    "## Teil c"
   ]
  },
  {
   "cell_type": "code",
   "execution_count": null,
   "id": "fc4e0da8-3f7c-431b-bcd8-8b364d70cce8",
   "metadata": {
    "deletable": false,
    "editable": false
   },
   "outputs": [],
   "source": [
    "CREATE TABLE LEHRE1c (\n",
    "    Professor VARCHAR,\n",
    "    Vorlesung VARCHAR,\n",
    "    PRIMARY KEY (Professor)\n",
    ");\n",
    "\n",
    "INSERT INTO LEHRE1c SELECT DISTINCT Professor, Vorlesung FROM LEHRE;\n",
    "\n",
    "SELECT * FROM LEHRE1c"
   ]
  },
  {
   "cell_type": "code",
   "execution_count": null,
   "id": "06211936-b820-4fc5-8b89-cdb0e5f3421e",
   "metadata": {
    "deletable": false,
    "editable": false
   },
   "outputs": [],
   "source": [
    "CREATE TABLE LEHRE2c (\n",
    "    Professor VARCHAR,\n",
    "    Student   INTEGER,\n",
    "    PRIMARY KEY (Professor, Student)\n",
    ");\n",
    "\n",
    "INSERT INTO LEHRE2c SELECT DISTINCT Professor, Student FROM LEHRE;\n",
    "\n",
    "SELECT * FROM LEHRE2c"
   ]
  },
  {
   "cell_type": "code",
   "execution_count": null,
   "id": "b3cb492b-7c22-44ca-81d7-77f6153baaa7",
   "metadata": {
    "deletable": false,
    "editable": false
   },
   "outputs": [],
   "source": [
    "SELECT * FROM LEHRE1c NATURAL JOIN LEHRE2c"
   ]
  }
 ],
 "metadata": {
  "kernelspec": {
   "display_name": "DuckDB",
   "language": "",
   "name": "duckdb_kernel"
  },
  "language_info": {
   "file_extension": ".sql",
   "mimetype": "application/sql",
   "name": "duckdb"
  }
 },
 "nbformat": 4,
 "nbformat_minor": 5
}
