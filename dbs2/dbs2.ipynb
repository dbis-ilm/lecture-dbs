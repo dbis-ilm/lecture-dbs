{
 "cells": [
  {
   "cell_type": "markdown",
   "id": "d7fad9f4-ebaf-42aa-aa96-c3e0955f91bb",
   "metadata": {
    "deletable": false,
    "editable": false
   },
   "source": [
    "# Teil II: Relationale Datenbanken - Daten als Tabellen"
   ]
  },
  {
   "cell_type": "code",
   "execution_count": null,
   "id": "51684ed4-6aeb-4ca9-afba-1896d0b2a869",
   "metadata": {
    "deletable": false
   },
   "outputs": [],
   "source": [
    "%CREATE :memory: OF weine.sql\n",
    "%GUESS_PARSER"
   ]
  },
  {
   "cell_type": "code",
   "execution_count": null,
   "id": "ba9ffbfb-7bba-434c-a7cd-858c7e220b7b",
   "metadata": {
    "deletable": false
   },
   "outputs": [],
   "source": [
    "Erzeuger"
   ]
  },
  {
   "cell_type": "code",
   "execution_count": null,
   "id": "757c78c1-ca91-48cb-9b02-64540c3cc975",
   "metadata": {
    "deletable": false
   },
   "outputs": [],
   "source": [
    "Weine"
   ]
  },
  {
   "cell_type": "markdown",
   "id": "50c6d8d0-2ba6-4a19-b276-a5fc2cc9a960",
   "metadata": {
    "deletable": false,
    "editable": false
   },
   "source": [
    "## Relationenalgebra"
   ]
  },
  {
   "cell_type": "markdown",
   "id": "c40ee29b-c3a8-4cbd-8d58-eb22af1fada5",
   "metadata": {
    "deletable": false,
    "editable": false
   },
   "source": [
    "### Selektion"
   ]
  },
  {
   "cell_type": "code",
   "execution_count": null,
   "id": "125b3237-eda8-40df-9554-c4407a33596a",
   "metadata": {
    "deletable": false
   },
   "outputs": [],
   "source": [
    "σ Jahrgang>2000 (Weine)"
   ]
  },
  {
   "cell_type": "markdown",
   "id": "ee0200ea-8fff-4599-b43e-3a6bfd73f778",
   "metadata": {
    "deletable": false,
    "editable": false
   },
   "source": [
    "### Projektion"
   ]
  },
  {
   "cell_type": "code",
   "execution_count": null,
   "id": "8659951c-bf95-428d-ba07-54ecdafe25ce",
   "metadata": {
    "deletable": false
   },
   "outputs": [],
   "source": [
    "π Region (Erzeuger)"
   ]
  },
  {
   "cell_type": "markdown",
   "id": "566593e5-89ba-4a1d-bac4-a2a38810ea4c",
   "metadata": {
    "deletable": false,
    "editable": false
   },
   "source": [
    "### Natürlicher Verbund"
   ]
  },
  {
   "cell_type": "code",
   "execution_count": null,
   "id": "3d6cbddd-9349-4bbc-9098-77f7f98cc963",
   "metadata": {
    "deletable": false
   },
   "outputs": [],
   "source": [
    "Weine ⋈ Erzeuger"
   ]
  },
  {
   "cell_type": "markdown",
   "id": "6cc222af-521f-4a4f-824e-31a819a03f75",
   "metadata": {
    "deletable": false,
    "editable": false
   },
   "source": [
    "### Kombination von Operationen"
   ]
  },
  {
   "cell_type": "code",
   "execution_count": null,
   "id": "e2f4c78b-0925-4fd4-a461-da2f5ce3c8a4",
   "metadata": {
    "deletable": false
   },
   "outputs": [],
   "source": [
    "π [ WName, Farbe, Weingut ] (σ [ Jahrgang>2000]  (Weine) ⋈ σ [ Region='Kalifornien' ] (Erzeuger))"
   ]
  },
  {
   "cell_type": "markdown",
   "id": "32eef016-8635-464c-b1bc-7847ad20f966",
   "metadata": {
    "deletable": false,
    "editable": false
   },
   "source": [
    "### Umbenennung"
   ]
  },
  {
   "cell_type": "code",
   "execution_count": null,
   "id": "eb270202-ed54-4d64-8f87-9c52c9bc4579",
   "metadata": {
    "deletable": false
   },
   "outputs": [],
   "source": [
    "Empfehlung"
   ]
  },
  {
   "cell_type": "code",
   "execution_count": null,
   "id": "8465c06c-a064-41c0-9dee-6acf0af34cfc",
   "metadata": {
    "deletable": false
   },
   "outputs": [],
   "source": [
    "β [ Name←Wein ] (Empfehlung)"
   ]
  },
  {
   "cell_type": "markdown",
   "id": "ab50b1c0-4fde-4ca2-8d3c-01a832f83f92",
   "metadata": {
    "deletable": false,
    "editable": false
   },
   "source": [
    "### Vereinigung"
   ]
  },
  {
   "cell_type": "code",
   "execution_count": null,
   "id": "19931b37-f301-40ad-b302-d7f2c556058b",
   "metadata": {
    "deletable": false
   },
   "outputs": [],
   "source": [
    "Weinliste ∪ β [ Name←Wein ] (Empfehlung)"
   ]
  },
  {
   "cell_type": "markdown",
   "id": "0d28c689-5ce7-458c-bd95-7ce3e8815b2a",
   "metadata": {
    "deletable": false,
    "editable": false
   },
   "source": [
    "### Differenz"
   ]
  },
  {
   "cell_type": "code",
   "execution_count": null,
   "id": "89852019-018c-4b11-ba60-b2f929fd0105",
   "metadata": {
    "deletable": false
   },
   "outputs": [],
   "source": [
    "Weinliste \\ β [ Name←Wein ] (Empfehlung)"
   ]
  },
  {
   "cell_type": "markdown",
   "id": "01c25fd3-27c1-42cb-b5bf-69f00c845e7a",
   "metadata": {
    "deletable": false,
    "editable": false
   },
   "source": [
    "### Durchschnitt"
   ]
  },
  {
   "cell_type": "code",
   "execution_count": null,
   "id": "93526429-1c82-46bd-ba23-af76a02f3c1e",
   "metadata": {
    "deletable": false
   },
   "outputs": [],
   "source": [
    "Weinliste ∩ β [ Name←Wein ] (Empfehlung)"
   ]
  },
  {
   "cell_type": "markdown",
   "id": "c28e684a-ce11-4ff1-bf9c-f8d84d4cde10",
   "metadata": {
    "deletable": false,
    "editable": false
   },
   "source": [
    "## SQL als Anfragesprache"
   ]
  },
  {
   "cell_type": "markdown",
   "id": "90fe300c-6e68-4eb9-a4d7-503445616939",
   "metadata": {
    "deletable": false,
    "editable": false
   },
   "source": [
    "### Anfrage"
   ]
  },
  {
   "cell_type": "code",
   "execution_count": null,
   "id": "d6c615df-f003-47bd-8949-7bcf5ddcdd52",
   "metadata": {
    "deletable": false
   },
   "outputs": [],
   "source": [
    "SELECT WName, Farbe\n",
    "FROM Weine\n",
    "WHERE Jahrgang = 2002"
   ]
  },
  {
   "cell_type": "markdown",
   "id": "8dd6a451-639a-4eeb-8248-f0a332427317",
   "metadata": {
    "deletable": false,
    "editable": false
   },
   "source": [
    "### Verknüpfung von Tabellen"
   ]
  },
  {
   "cell_type": "code",
   "execution_count": null,
   "id": "de98dafc-4452-4fa6-afe9-a7e0deadbc09",
   "metadata": {
    "deletable": false
   },
   "outputs": [],
   "source": [
    "SELECT *\n",
    "FROM Weine, Erzeuger"
   ]
  },
  {
   "cell_type": "code",
   "execution_count": null,
   "id": "7675aac2-8cb7-4b91-b420-df19dff954d1",
   "metadata": {
    "deletable": false
   },
   "outputs": [],
   "source": [
    "SELECT *\n",
    "FROM Weine\n",
    "NATURAL JOIN Erzeuger"
   ]
  },
  {
   "cell_type": "code",
   "execution_count": null,
   "id": "1a143cd7-25f5-4930-9dee-907f350bdcc7",
   "metadata": {
    "deletable": false
   },
   "outputs": [],
   "source": [
    "SELECT *\n",
    "FROM Weine, Erzeuger\n",
    "WHERE Weine.Weingut = Erzeuger.Weingut"
   ]
  },
  {
   "cell_type": "markdown",
   "id": "27e74230-6810-4442-a1fc-c30544139106",
   "metadata": {
    "deletable": false,
    "editable": false
   },
   "source": [
    "### Kombination von Bedingungen"
   ]
  },
  {
   "cell_type": "code",
   "execution_count": null,
   "id": "2c11d66e-e4ab-4165-a317-b1edf93758c4",
   "metadata": {
    "deletable": false
   },
   "outputs": [],
   "source": [
    "SELECT WName, Farbe, Weine.Weingut\n",
    "FROM Weine, Erzeuger\n",
    "WHERE Jahrgang > 2000 AND Region = 'Kalifornien' AND Weine.Weingut = Erzeuger.Weingut"
   ]
  },
  {
   "cell_type": "markdown",
   "id": "253c111c-6b98-4607-b72d-2425b078820c",
   "metadata": {
    "deletable": false,
    "editable": false
   },
   "source": [
    "### Mengenoperationen in SQL"
   ]
  },
  {
   "cell_type": "code",
   "execution_count": null,
   "id": "0cb57810-a31d-4226-aa6d-8d535379173c",
   "metadata": {
    "deletable": false
   },
   "outputs": [],
   "source": [
    "SELECT * FROM Weinliste\n",
    "UNION\n",
    "SELECT * FROM Empfehlung"
   ]
  },
  {
   "cell_type": "code",
   "execution_count": null,
   "id": "8b62a320-a3ff-46f6-9a0c-a0e3953fc015",
   "metadata": {
    "deletable": false
   },
   "outputs": [],
   "source": [
    "SELECT * FROM Weinliste\n",
    "INTERSECT\n",
    "SELECT * FROM Empfehlung"
   ]
  },
  {
   "cell_type": "code",
   "execution_count": null,
   "id": "1607bc31-335b-46a6-9194-e3df0cd19088",
   "metadata": {
    "deletable": false
   },
   "outputs": [],
   "source": [
    "SELECT * FROM Weinliste\n",
    "EXCEPT\n",
    "SELECT * FROM Empfehlung"
   ]
  },
  {
   "cell_type": "code",
   "execution_count": null,
   "id": "ccf988a2-f936-485b-9843-e6e6da5020a3",
   "metadata": {
    "deletable": false
   },
   "outputs": [],
   "source": [
    "SELECT *\n",
    "FROM Weinliste\n",
    "WHERE Name NOT IN (\n",
    "    SELECT *\n",
    "    FROM Empfehlung\n",
    ")"
   ]
  },
  {
   "cell_type": "markdown",
   "id": "a88d7897-f1d1-4592-9ac4-4d76a2f2b794",
   "metadata": {
    "deletable": false,
    "editable": false
   },
   "source": [
    "## Änderungsoperationen in SQL"
   ]
  },
  {
   "cell_type": "markdown",
   "id": "2cde89db-e6e8-4caf-b376-cce3182a33e1",
   "metadata": {
    "deletable": false,
    "editable": false
   },
   "source": [
    "### Update"
   ]
  },
  {
   "cell_type": "code",
   "execution_count": null,
   "id": "8ef4180b-36fa-4df8-bb0c-f0ae32ce7a70",
   "metadata": {
    "deletable": false
   },
   "outputs": [],
   "source": [
    "UPDATE Weine\n",
    "SET Farbe = 'grün'"
   ]
  },
  {
   "cell_type": "code",
   "execution_count": null,
   "id": "92cb3a5b-91af-48c0-ac72-b2ace34b44ee",
   "metadata": {
    "deletable": false
   },
   "outputs": [],
   "source": [
    "SELECT * FROM Weine"
   ]
  },
  {
   "cell_type": "markdown",
   "id": "ef8c0a27-2a72-44f3-9196-dd57f8eb6598",
   "metadata": {
    "deletable": false,
    "editable": false
   },
   "source": [
    "### Delete"
   ]
  },
  {
   "cell_type": "code",
   "execution_count": null,
   "id": "eb13d4b3-7e61-4a44-8780-195c1f1cd8bd",
   "metadata": {
    "deletable": false
   },
   "outputs": [],
   "source": [
    "DELETE FROM Weine"
   ]
  },
  {
   "cell_type": "code",
   "execution_count": null,
   "id": "b76407ca-ef5d-4b88-bf84-9599fc7293cc",
   "metadata": {
    "deletable": false
   },
   "outputs": [],
   "source": [
    "SELECT * FROM Weine"
   ]
  },
  {
   "cell_type": "markdown",
   "id": "a5fd7ed5-00a4-4f18-8190-a72b0709541e",
   "metadata": {
    "deletable": false,
    "editable": false
   },
   "source": [
    "### Insert"
   ]
  },
  {
   "cell_type": "code",
   "execution_count": null,
   "id": "f7c2b8a6-0103-4ae9-b4f0-e73606f86e1c",
   "metadata": {
    "deletable": false
   },
   "outputs": [],
   "source": [
    "INSERT INTO Weine VALUES (1, 'Name', 'Farbe', 2000, 'Creek')"
   ]
  },
  {
   "cell_type": "code",
   "execution_count": null,
   "id": "06e113d7-019e-4b3b-b410-70d85bebebcf",
   "metadata": {
    "deletable": false
   },
   "outputs": [],
   "source": [
    "SELECT * FROM Weine"
   ]
  }
 ],
 "metadata": {
  "kernelspec": {
   "display_name": "DuckDB",
   "language": "",
   "name": "duckdb_kernel"
  },
  "language_info": {
   "file_extension": ".sql",
   "mimetype": "application/sql",
   "name": "duckdb"
  }
 },
 "nbformat": 4,
 "nbformat_minor": 5
}
