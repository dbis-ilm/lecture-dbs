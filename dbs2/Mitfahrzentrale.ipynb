{
 "cells": [
  {
   "cell_type": "markdown",
   "id": "3a5cd56b-8d5b-4504-9ff4-19321f2f6b16",
   "metadata": {
    "deletable": false,
    "editable": false
   },
   "source": [
    "# Teil II: Relationale Datenbanken - Daten als Tabellen"
   ]
  },
  {
   "cell_type": "code",
   "execution_count": null,
   "id": "1d8b49bc-4c36-4c57-9c18-db66b7f6710c",
   "metadata": {
    "deletable": false
   },
   "outputs": [],
   "source": [
    "%CREATE :memory: OF mitfahrzentrale.sql"
   ]
  },
  {
   "cell_type": "code",
   "execution_count": null,
   "id": "2e2cd0aa-bece-4dfd-97e5-7260be1befc8",
   "metadata": {
    "deletable": false
   },
   "outputs": [],
   "source": [
    "%SCHEMA"
   ]
  },
  {
   "cell_type": "markdown",
   "id": "0eb42aa4-5a37-45dd-b8cd-66a68d0d076d",
   "metadata": {
    "deletable": false,
    "editable": false
   },
   "source": [
    "## Anwendungsbeispiel: Mitfahrzentrale"
   ]
  },
  {
   "cell_type": "markdown",
   "id": "315b1536-aead-4539-b470-a156b889a522",
   "metadata": {
    "deletable": false,
    "editable": false
   },
   "source": [
    "### Angebote für spezifisches Datum"
   ]
  },
  {
   "cell_type": "code",
   "execution_count": null,
   "id": "dd1a8e58-54c1-44b1-aff7-c5bd91d17445",
   "metadata": {
    "deletable": false
   },
   "outputs": [],
   "source": [
    "SELECT *\n",
    "FROM Angebot\n",
    "WHERE Von = 'Ilmenau' AND Nach = 'Erfurt' AND Datum = '2018-11-30'"
   ]
  },
  {
   "cell_type": "markdown",
   "id": "994a8003-2048-42a5-b268-e6106084e930",
   "metadata": {
    "deletable": false,
    "editable": false
   },
   "source": [
    "### Reservierung anlegen"
   ]
  },
  {
   "cell_type": "code",
   "execution_count": null,
   "id": "0a656e32-e291-488a-9bc0-f82aa9265b97",
   "metadata": {
    "deletable": false
   },
   "outputs": [],
   "source": [
    "INSERT INTO Reservierung VALUES\n",
    "    ('Speedy', 27)"
   ]
  },
  {
   "cell_type": "markdown",
   "id": "e91b4e81-ef94-4b52-b36d-ec24677e1b6a",
   "metadata": {
    "deletable": false,
    "editable": false
   },
   "source": [
    "### Mitfahrer finden"
   ]
  },
  {
   "cell_type": "code",
   "execution_count": null,
   "id": "f55b970c-1a2d-4b61-9125-c8da66821722",
   "metadata": {
    "deletable": false
   },
   "outputs": [],
   "source": [
    "SELECT R.Name\n",
    "FROM Reservierung R, Angebot A\n",
    "WHERE R.ID = A.ID AND A.Fahrer = 'Nick'"
   ]
  }
 ],
 "metadata": {
  "kernelspec": {
   "display_name": "DuckDB",
   "language": "",
   "name": "duckdb_kernel"
  },
  "language_info": {
   "file_extension": ".sql",
   "mimetype": "application/sql",
   "name": "duckdb"
  }
 },
 "nbformat": 4,
 "nbformat_minor": 5
}
