{
 "cells": [
  {
   "cell_type": "markdown",
   "id": "8956822b-edc8-4521-9712-eb40fa329637",
   "metadata": {
    "deletable": false,
    "editable": false
   },
   "source": [
    "# Altklausur"
   ]
  },
  {
   "cell_type": "code",
   "execution_count": null,
   "id": "e4570a23-ce3e-4458-a964-ef12bb6564b5",
   "metadata": {
    "deletable": false
   },
   "outputs": [],
   "source": [
    "%CREATE pg://localhost\n",
    "%GUESS_PARSER"
   ]
  },
  {
   "cell_type": "code",
   "execution_count": null,
   "id": "f003c5df-d7a1-4963-9e96-cbcf013e6212",
   "metadata": {
    "deletable": false
   },
   "outputs": [],
   "source": [
    "CREATE TABLE Band (\n",
    "    BId      INTEGER PRIMARY KEY,\n",
    "    Name     VARCHAR,\n",
    "    Genre    VARCHAR,\n",
    "    Gründung VARCHAR,\n",
    "    Herkunft VARCHAR\n",
    ");\n",
    "\n",
    "INSERT INTO Band VALUES\n",
    "    (1, 'The White Stripes', 'Garage Rock',   1997, 'USA'),\n",
    "    (2, 'The Raconteurs',    'Bluesrock',     2005, 'USA'),\n",
    "    (3, 'Crystal Castles',   'Electroclash',  2006, 'Kanada'),\n",
    "    (4, 'Knife Party',       'Electro House', 2011, 'Australien'),\n",
    "    (5, 'Big Deal',          'Pop Rock',      2011, 'USA');"
   ]
  },
  {
   "cell_type": "code",
   "execution_count": null,
   "id": "78b1cae2-6c1a-48d2-b518-a22834cf9d8a",
   "metadata": {
    "deletable": false
   },
   "outputs": [],
   "source": [
    "CREATE TABLE Künstler (\n",
    "    KId         INTEGER PRIMARY KEY,\n",
    "    Name        VARCHAR,\n",
    "    Geburtsjahr INTEGER\n",
    ");\n",
    "\n",
    "INSERT INTO Künstler VALUES\n",
    "    (1,  'Jack White',       1975),\n",
    "    (2,  'Meg White',        1974),\n",
    "    (3,  'Brendan Benson',   1970),\n",
    "    (4,  'Jack Lawrence',    1976),\n",
    "    (5,  'Patrick Keeler',   1975),\n",
    "    (6,  'Ethan Kath',       1977),\n",
    "    (7,  'Alice Glass',      1988),\n",
    "    (8,  'Edith Frances',    NULL),\n",
    "    (9,  'Rob Swire',        1982),\n",
    "    (10, 'Gareth McGrillen', 1982),\n",
    "    (11, 'Mike Kerr',        NULL);"
   ]
  },
  {
   "cell_type": "code",
   "execution_count": null,
   "id": "fd7bc1bd-1159-4985-a943-352c393d0403",
   "metadata": {
    "deletable": false
   },
   "outputs": [],
   "source": [
    "CREATE TABLE Mitglied (\n",
    "    KId        INTEGER,\n",
    "    BId        INTEGER,\n",
    "    Instrument VARCHAR,\n",
    "    PRIMARY KEY (KId, BId),\n",
    "    FOREIGN KEY (KId) REFERENCES Künstler(KId) ON DELETE CASCADE,\n",
    "    FOREIGN KEY (BId) REFERENCES Band(BId) ON DELETE CASCADE\n",
    ");\n",
    "\n",
    "INSERT INTO Mitglied VALUES\n",
    "    (1,  1, 'Gitarre'),\n",
    "    (1,  2, 'Schlagzeug'),\n",
    "    (2,  1, 'Gitarre'),\n",
    "    (3,  2, 'Gitarre'),\n",
    "    (4,  2, 'Bass'),\n",
    "    (5,  2, 'Schlagzeug'),\n",
    "    (6,  3, NULL),\n",
    "    (7,  3, NULL),\n",
    "    (8,  3, NULL),\n",
    "    (9,  4, 'DJ'),\n",
    "    (10, 4, 'DJ');"
   ]
  },
  {
   "cell_type": "markdown",
   "id": "b327badf-09e1-48cb-bb75-ca57820050e4",
   "metadata": {
    "deletable": false,
    "editable": false
   },
   "source": [
    "## Aufgabe 3"
   ]
  },
  {
   "cell_type": "markdown",
   "id": "67e30764-74e7-48cb-998a-8523da3a70d2",
   "metadata": {
    "deletable": false,
    "editable": false
   },
   "source": [
    "### a"
   ]
  },
  {
   "cell_type": "code",
   "execution_count": null,
   "id": "1b0098fb-3ce5-48d4-bf63-03b10087df87",
   "metadata": {
    "deletable": false
   },
   "outputs": [],
   "source": [
    "SELECT DISTINCT Band.*\n",
    "FROM Band\n",
    "JOIN Mitglied USING (BId)\n",
    "JOIN Künstler USING (KId)\n",
    "WHERE Geburtsjahr IS NULL"
   ]
  },
  {
   "cell_type": "markdown",
   "id": "e958bccb-2b70-40f9-88d7-18abcf64f091",
   "metadata": {
    "deletable": false,
    "editable": false
   },
   "source": [
    "### b"
   ]
  },
  {
   "cell_type": "code",
   "execution_count": null,
   "id": "ab251ab2-1757-4bfb-b8b9-93acf589bd47",
   "metadata": {
    "deletable": false
   },
   "outputs": [],
   "source": [
    "SELECT BId\n",
    "FROM (\n",
    "    SELECT BId, COUNT(*) AS count\n",
    "    FROM Mitglied\n",
    "    GROUP BY BId\n",
    ")\n",
    "ORDER BY count DESC\n",
    "LIMIT 1"
   ]
  },
  {
   "cell_type": "markdown",
   "id": "e6a09d6a-5c34-4b3d-9886-32ddef20a00f",
   "metadata": {
    "deletable": false,
    "editable": false
   },
   "source": [
    "### c"
   ]
  },
  {
   "cell_type": "code",
   "execution_count": null,
   "id": "008885b0-776d-4f93-ba05-ea08734b8a83",
   "metadata": {
    "deletable": false
   },
   "outputs": [],
   "source": [
    "SELECT DISTINCT Künstler.*\n",
    "FROM Künstler\n",
    "JOIN Mitglied M1 USING (KId)\n",
    "JOIN Mitglied M2 USING (KId)\n",
    "WHERE M1.BId != M2.BId"
   ]
  },
  {
   "cell_type": "markdown",
   "id": "ebef2e1d-dacf-43a6-b6cd-6a3a62633e56",
   "metadata": {
    "deletable": false,
    "editable": false
   },
   "source": [
    "### d"
   ]
  },
  {
   "cell_type": "code",
   "execution_count": null,
   "id": "7bebff14-59f1-44d9-9972-4420921ec665",
   "metadata": {
    "deletable": false
   },
   "outputs": [],
   "source": [
    "SELECT Künstler.*\n",
    "FROM Künstler\n",
    "LEFT JOIN Mitglied USING (KId)\n",
    "WHERE Mitglied.KId IS NULL"
   ]
  },
  {
   "cell_type": "markdown",
   "id": "29a8a915-884c-4009-a52e-07f5424c3974",
   "metadata": {
    "deletable": false,
    "editable": false
   },
   "source": [
    "### e\n",
    "s.o."
   ]
  },
  {
   "cell_type": "markdown",
   "id": "7903749b-527a-4390-99cc-f4a0b6efc5bc",
   "metadata": {
    "deletable": false,
    "editable": false
   },
   "source": [
    "## Aufgabe 4"
   ]
  },
  {
   "cell_type": "markdown",
   "id": "250dba00-690b-4f9e-b3c7-040c3569a3d9",
   "metadata": {
    "deletable": false,
    "editable": false
   },
   "source": [
    "### a"
   ]
  },
  {
   "cell_type": "code",
   "execution_count": null,
   "id": "ad332bd5-b656-4050-be65-3538614a426c",
   "metadata": {
    "deletable": false
   },
   "outputs": [],
   "source": [
    "π [Name, Geburtsjahr] (Künstler ⋈ Mitglied ⋈ π [bid] (σ [Herkunft = 'USA'] (Band)))"
   ]
  },
  {
   "cell_type": "markdown",
   "id": "9744f6ba-215c-47de-8639-7af9b59f876c",
   "metadata": {
    "deletable": false,
    "editable": false
   },
   "source": [
    "### b"
   ]
  },
  {
   "cell_type": "code",
   "execution_count": null,
   "id": "32e0f226-dd9a-4628-bc0e-28e545035ac2",
   "metadata": {
    "deletable": false
   },
   "outputs": [],
   "source": [
    "π [Name] (Band ⋈ (π [BId] (Band) \\ π [BId] (Mitglied)))"
   ]
  },
  {
   "cell_type": "code",
   "execution_count": null,
   "id": "9b1f3807-c8b6-4212-a4d6-c08e23860b06",
   "metadata": {
    "deletable": false
   },
   "outputs": [],
   "source": [
    "π [BId] (\n",
    "    π [BId, Name] (Band) \\ π [BId, Name] (Mitglied ⋈ Band)\n",
    ")"
   ]
  },
  {
   "cell_type": "markdown",
   "id": "53980416-c5f8-4f07-886a-197c5f1151a7",
   "metadata": {
    "deletable": false,
    "editable": false
   },
   "source": [
    "### c"
   ]
  },
  {
   "cell_type": "code",
   "execution_count": null,
   "id": "a50dc1ab-7890-4d56-97a2-955784e0f010",
   "metadata": {
    "deletable": false
   },
   "outputs": [],
   "source": [
    "{ Instrument | Mitglied(_, BId, Instrument) ∧ Band(BId, _, 'Garage Rock', _, _) }"
   ]
  },
  {
   "cell_type": "markdown",
   "id": "6be1fe5c-7467-49b5-b247-c618a9d92389",
   "metadata": {
    "deletable": false,
    "editable": false
   },
   "source": [
    "### d"
   ]
  },
  {
   "cell_type": "code",
   "execution_count": null,
   "id": "eda15105-aab2-462f-a305-79443ba4afd8",
   "metadata": {
    "deletable": false
   },
   "outputs": [],
   "source": [
    "{ Gründung, Herkunft | Band(BId, _, _, Gründung, Herkunft) ∧ Mitglied(BId, KId, _) ∧ Künstler(KId, _, Geburtsjahr) ∧ 1975 ≤ Geburtsjahr ∧ Geburtsjahr ≤ 1977 }"
   ]
  },
  {
   "cell_type": "code",
   "execution_count": null,
   "id": "2b754781-faba-4792-ba2c-f3569fc8e096",
   "metadata": {
    "deletable": false
   },
   "outputs": [],
   "source": [
    "{ Gründung, Herkunft | Band(BId, _, _, Gründung, Herkunft) ∧ Mitglied(BId, KId, _) ∧ Künstler(KId, _, Geburtsjahr) ∧ (Geburtsjahr = 1975 ∨ Geburtsjahr = 1976 ∨ Geburtsjahr = 1977) }"
   ]
  },
  {
   "cell_type": "markdown",
   "id": "25eadd28-1757-4204-b1e6-a7ddfce2864f",
   "metadata": {
    "deletable": false,
    "editable": false
   },
   "source": [
    "## Aufgabe 5"
   ]
  },
  {
   "cell_type": "markdown",
   "id": "774443ff-9b88-4256-a8bc-519e6cecf773",
   "metadata": {
    "deletable": false,
    "editable": false
   },
   "source": [
    "### d\n",
    "Hier Formulierung mit PostgreSQL:"
   ]
  },
  {
   "cell_type": "code",
   "execution_count": null,
   "id": "6440b067-fac8-46d9-a8d5-de524a0f28e5",
   "metadata": {
    "deletable": false
   },
   "outputs": [],
   "source": [
    "CREATE FUNCTION aufgabefuenfd()\n",
    "    RETURNS trigger AS\n",
    "$func$\n",
    "BEGIN\n",
    "    DELETE FROM Künstler\n",
    "    WHERE KId IN (\n",
    "        SELECT KId\n",
    "        FROM Mitglied\n",
    "        WHERE BId = OLD.BId\n",
    "    );\n",
    "    RETURN OLD;\n",
    "END\n",
    "$func$ LANGUAGE plpgsql;"
   ]
  },
  {
   "cell_type": "code",
   "execution_count": null,
   "id": "5028b1ee-3b7d-4db7-a87e-7d8c092cda93",
   "metadata": {
    "deletable": false
   },
   "outputs": [],
   "source": [
    "CREATE TRIGGER aufgabefuenfd\n",
    "BEFORE DELETE ON Band\n",
    "FOR EACH ROW\n",
    "EXECUTE PROCEDURE aufgabefuenfd()"
   ]
  },
  {
   "cell_type": "code",
   "execution_count": null,
   "id": "1127f42e-5bee-4129-84c0-c038ff21c6a5",
   "metadata": {
    "deletable": false
   },
   "outputs": [],
   "source": [
    "SELECT * FROM Künstler"
   ]
  },
  {
   "cell_type": "code",
   "execution_count": null,
   "id": "72b1155c-500c-48a3-95cf-25944fa5bfc8",
   "metadata": {
    "deletable": false
   },
   "outputs": [],
   "source": [
    "DELETE FROM Band WHERE BId = 2"
   ]
  },
  {
   "cell_type": "code",
   "execution_count": null,
   "id": "cbe47d90-c669-48ef-9f42-69cc0f4e711a",
   "metadata": {
    "deletable": false
   },
   "outputs": [],
   "source": [
    "SELECT * FROM Künstler"
   ]
  }
 ],
 "metadata": {
  "kernelspec": {
   "display_name": "DuckDB",
   "language": "",
   "name": "duckdb_kernel"
  },
  "language_info": {
   "file_extension": ".sql",
   "mimetype": "application/sql",
   "name": "duckdb"
  }
 },
 "nbformat": 4,
 "nbformat_minor": 5
}
